{
 "cells": [
  {
   "cell_type": "markdown",
   "metadata": {},
   "source": [
    "# Prototypical Networks\n",
    "### on the Omniglot Dataset"
   ]
  },
  {
   "cell_type": "code",
   "execution_count": 1,
   "metadata": {},
   "outputs": [],
   "source": [
    "import numpy as np\n",
    "import os\n",
    "import cv2\n",
    "from PIL import Image\n",
    "from tqdm.notebook import tqdm\n",
    "import matplotlib.pyplot as plt\n",
    "\n",
    "import torch\n",
    "from torch import nn\n",
    "import torch.nn.functional as F\n",
    "import torchvision"
   ]
  },
  {
   "cell_type": "markdown",
   "metadata": {},
   "source": [
    "## Load Dataset"
   ]
  },
  {
   "cell_type": "code",
   "execution_count": 2,
   "metadata": {},
   "outputs": [],
   "source": [
    "def load_characters(root, alphabet):\n",
    "    '''\n",
    "    Loads the characters from a given alphabet\n",
    "    Args:\n",
    "        root (str): Root directory\n",
    "        alphabet (str): folder name of alphabet\n",
    "    Returns:\n",
    "        (tuple) of:\n",
    "            (list): images\n",
    "            (list): labels\n",
    "    '''\n",
    "    X = []\n",
    "    y = []\n",
    "    \n",
    "    alphabet_path = os.path.join(root, alphabet)\n",
    "    characters = os.listdir(alphabet_path)\n",
    "    \n",
    "    for char in characters:\n",
    "        char_path = os.path.join(alphabet_path, char)\n",
    "        images = os.listdir(char_path)\n",
    "        \n",
    "        for img in images:\n",
    "            image = cv2.imread(os.path.join(char_path, img))\n",
    "            image = cv2.resize(image, (28, 28)) / 255\n",
    "            X.append(image)\n",
    "            y.append(f'{alphabet}_{char}')\n",
    "    \n",
    "    return X, y"
   ]
  },
  {
   "cell_type": "code",
   "execution_count": 3,
   "metadata": {},
   "outputs": [],
   "source": [
    "def load_data(root):\n",
    "    '''\n",
    "    Loads the full omniglot dataset from a root directory\n",
    "    Args:\n",
    "        root (str): path of omniglot dataset\n",
    "    Returns:\n",
    "        (tuple) of:\n",
    "            (ndarray): images\n",
    "            (ndarray): labels\n",
    "    '''\n",
    "    X_data = []\n",
    "    y_data = []\n",
    "    \n",
    "    alphabets = os.listdir(root)\n",
    "    for alphabet in tqdm(alphabets):\n",
    "        X, y = load_characters(root, alphabet)\n",
    "        X_data.extend(X)\n",
    "        y_data.extend(y)\n",
    "    \n",
    "    return np.array(X_data), np.array(y_data)"
   ]
  },
  {
   "cell_type": "code",
   "execution_count": 4,
   "metadata": {},
   "outputs": [
    {
     "data": {
      "application/vnd.jupyter.widget-view+json": {
       "model_id": "f2c16968c6b14aeba46c2ca7f4e6fd60",
       "version_major": 2,
       "version_minor": 0
      },
      "text/plain": [
       "HBox(children=(FloatProgress(value=0.0, max=30.0), HTML(value='')))"
      ]
     },
     "metadata": {},
     "output_type": "display_data"
    },
    {
     "name": "stdout",
     "output_type": "stream",
     "text": [
      "\n"
     ]
    }
   ],
   "source": [
    "X_train, y_train = load_data('omniglot/images_background/')"
   ]
  },
  {
   "cell_type": "markdown",
   "metadata": {},
   "source": [
    "## Task Generation"
   ]
  },
  {
   "cell_type": "code",
   "execution_count": 40,
   "metadata": {},
   "outputs": [],
   "source": [
    "def extract_sample(X_data, y_data, k_shot=5, n_way=5, n_query=5):\n",
    "    '''\n",
    "    Extract a random sample as a k-shot n-way task\n",
    "    Args:\n",
    "        k_shot (int): number of images per class\n",
    "        n_way (int): number of classes in the task\n",
    "        n_query (int): number of query images\n",
    "        X_data (ndarray): images\n",
    "        y_data (ndarray): labels\n",
    "    Returns:\n",
    "        (ndarray): sampled images of shape (n_way, k_shot + n_query, 28, 28, 3)\n",
    "    '''\n",
    "    sample = []\n",
    "    # Randomly select 5 classes\n",
    "    sampled_cls = np.random.choice(np.unique(y_data), n_way, replace=False)\n",
    "    \n",
    "    for c in sampled_cls:\n",
    "        # Select images belonging to that class\n",
    "        X_data_c = X_data[y_data == c]\n",
    "        \n",
    "        # Sample k_shot+n_query images\n",
    "        sample_images = np.random.permutation(X_data_c)[:(k_shot+n_query)]\n",
    "        sample.append(sample_images)\n",
    "\n",
    "    sample = np.array(sample)\n",
    "    # Convert to tensor and permute the images as channels first\n",
    "    sample = torch.from_numpy(sample).float().permute(0, 1, 4, 2, 3)\n",
    "    \n",
    "    return sample"
   ]
  },
  {
   "cell_type": "code",
   "execution_count": 41,
   "metadata": {},
   "outputs": [],
   "source": [
    "def display_sample(sample):\n",
    "    '''Display the samples of the task as a grid'''\n",
    "    # Reshape to 4-dimensions from 5-dimensions\n",
    "    sample_4d = sample.view(sample.shape[0]*sample.shape[1], *sample.shape[2:])\n",
    "    \n",
    "    # Make a grid\n",
    "    out = torchvision.utils.make_grid(sample_4d, nrow=sample.shape[1])\n",
    "    \n",
    "    plt.figure(figsize = (16,7))\n",
    "    plt.imshow(out.permute(1, 2, 0))"
   ]
  },
  {
   "cell_type": "code",
   "execution_count": 59,
   "metadata": {},
   "outputs": [],
   "source": [
    "test_sample = extract_sample(X_train, y_train, k_shot=5, n_way=8, n_query=5)"
   ]
  },
  {
   "cell_type": "code",
   "execution_count": 60,
   "metadata": {},
   "outputs": [
    {
     "data": {
      "image/png": "[encoded data removed]",
      "text/plain": [
       "<Figure size 1152x504 with 1 Axes>"
      ]
     },
     "metadata": {
      "needs_background": "light"
     },
     "output_type": "display_data"
    }
   ],
   "source": [
    "display_sample(test_sample)"
   ]
  },
  {
   "cell_type": "markdown",
   "metadata": {},
   "source": [
    "## Model"
   ]
  },
  {
   "cell_type": "code",
   "execution_count": 61,
   "metadata": {},
   "outputs": [],
   "source": [
    "class Image2Vector(nn.Module):\n",
    "    def __init__(self):\n",
    "        super(Image2Vector, self).__init__()\n",
    "        \n",
    "        self.input_block = nn.Sequential(nn.Conv2d(3, 64, 3, padding=1),\n",
    "                                         nn.BatchNorm2d(64),\n",
    "                                         nn.ReLU(),\n",
    "                                         nn.MaxPool2d(2))\n",
    "        \n",
    "        self.conv_block = nn.Sequential(nn.Conv2d(64, 64, 3, padding=1),\n",
    "                                        nn.BatchNorm2d(64),\n",
    "                                        nn.ReLU(),\n",
    "                                        nn.MaxPool2d(2))\n",
    "    def forward(self, x):\n",
    "        \n",
    "        x = self.input_block(x)\n",
    "        x = self.conv_block(x)\n",
    "        x = self.conv_block(x)\n",
    "        x = self.conv_block(x)\n",
    "        \n",
    "        out = x.view(x.size(0), -1)\n",
    "        return out        "
   ]
  },
  {
   "cell_type": "code",
   "execution_count": 62,
   "metadata": {},
   "outputs": [],
   "source": [
    "class ProtoNet(nn.Module):\n",
    "    '''ProtoNet Model for usage with known/labelled data'''\n",
    "    def __init__(self):\n",
    "        super(ProtoNet, self).__init__()\n",
    "        \n",
    "        self.encoder = Image2Vector()\n",
    "    \n",
    "    def forward(self, sample, k_shot, n_way, n_query, device):\n",
    "        '''Forward pass\n",
    "        Args:\n",
    "            sample (torch.Tensor): sample of shape (n_way, k_shot + n_query, 28, 28, 3)\n",
    "            k_shot (int): number of images per class\n",
    "            n_way (int): number of classes\n",
    "            n_query (int): number of query images per class\n",
    "        \n",
    "        Returns:\n",
    "            tuple of:\n",
    "                loss, dict of loss value, accuracy, predictions\n",
    "        '''\n",
    "        # Get the support set and query set images\n",
    "        support = sample[:, :k_shot]\n",
    "        queries = sample[:, k_shot:]\n",
    "        \n",
    "        # Get the target indices\n",
    "        targets = torch.arange(0, n_way).view(n_way, 1, 1).expand(n_way, n_query, 1).long().to(device)\n",
    "        \n",
    "        # Concatenate support set and query set along the 0th dimension\n",
    "        x = torch.cat([support.contiguous().view(n_way * k_shot, *support.size()[2:]), \n",
    "                       queries.contiguous().view(n_way * n_query, *queries.size()[2:])], 0)\n",
    "        \n",
    "        # Get the embeddings\n",
    "        embeds = self.encoder(x)\n",
    "        z_dim = embeds.size(-1)\n",
    "        \n",
    "        # Compute Prototypes\n",
    "        protos = embeds[:n_way * k_shot].view(n_way, k_shot, z_dim).mean(1)\n",
    "        \n",
    "        # Get query embeddings\n",
    "        query_embeds = embeds[n_way * k_shot:]\n",
    "        \n",
    "        # Compute Distances\n",
    "        distances = self.euclidean(query_embeds, protos)\n",
    "        \n",
    "        # Compute Log Softmax over the inverse of euclidean distances\n",
    "        log_p = F.log_softmax(-distances, dim=1).view(n_way, n_query, -1)\n",
    "        \n",
    "        # Compute the negative of log softmax for correct classes (NLL)\n",
    "        neg_log_p = -log_p.gather(2, targets)\n",
    "        \n",
    "        # Calculate the mean NLL loss\n",
    "        loss = neg_log_p.squeeze().view(-1).mean()\n",
    "        \n",
    "        # Get predictions and calculate accuracy\n",
    "        y_hat = log_p.argmax(2)\n",
    "        accuracy = torch.eq(y_hat, targets.squeeze()).float().mean()\n",
    "        \n",
    "        return loss, {'loss': loss.item(), \n",
    "                      'preds': y_hat, \n",
    "                      'acc': accuracy.item()}\n",
    "        \n",
    "        \n",
    "    def euclidean(self, queries, protos):\n",
    "        '''\n",
    "        Calculates Euclidean Distances between queries and prototypes\n",
    "        Args:\n",
    "            queries (torch.Tensor): shape (n, d) where n is n_way*n_query\n",
    "            protos (torch.Tensor): shape (m, d) where m is n_way\n",
    "        Returns:\n",
    "            (torch.Tensor): shape (n, m) i.e. for each query the euclidean distances\n",
    "                            to each of the prototypes\n",
    "        '''\n",
    "        n = queries.size(0)\n",
    "        m = protos.size(0)\n",
    "        d = queries.size(1)\n",
    "        assert queries.size(1) == protos.size(1), 'Vector Dimension of Query and Prototypes are not same'\n",
    "        \n",
    "        # Reshaping the queries and prototypes for distance calculation\n",
    "        queries = queries.unsqueeze(1).expand(n, m, d)\n",
    "        protos = protos.unsqueeze(0).expand(n, m, d)\n",
    "        \n",
    "        distance = torch.pow(queries - protos, 2).sum(2) # of shape n x m\n",
    "        \n",
    "        return distance"
   ]
  },
  {
   "cell_type": "markdown",
   "metadata": {},
   "source": [
    "### Under the Hood Working of ProtoNet Class\n",
    "The coming code cells are just a line by line expansion of ProtoNet Class"
   ]
  },
  {
   "cell_type": "code",
   "execution_count": 63,
   "metadata": {},
   "outputs": [],
   "source": [
    "k_shot = 5\n",
    "n_way = 8\n",
    "n_query = 5"
   ]
  },
  {
   "cell_type": "markdown",
   "metadata": {},
   "source": [
    "Create Encoder"
   ]
  },
  {
   "cell_type": "code",
   "execution_count": 64,
   "metadata": {},
   "outputs": [],
   "source": [
    "# Create our encoder\n",
    "img2vec = Image2Vector()"
   ]
  },
  {
   "cell_type": "code",
   "execution_count": 65,
   "metadata": {},
   "outputs": [
    {
     "data": {
      "text/plain": [
       "torch.Size([1, 64])"
      ]
     },
     "execution_count": 65,
     "metadata": {},
     "output_type": "execute_result"
    }
   ],
   "source": [
    "# Test on sample image\n",
    "img2vec(test_sample[0][:1]).shape # a vector of size 64"
   ]
  },
  {
   "cell_type": "markdown",
   "metadata": {},
   "source": [
    "Get Support and Query Sets"
   ]
  },
  {
   "cell_type": "code",
   "execution_count": 66,
   "metadata": {},
   "outputs": [],
   "source": [
    "# Get support set and query set\n",
    "support = test_sample[:, :k_shot]\n",
    "queries = test_sample[:, k_shot:]"
   ]
  },
  {
   "cell_type": "code",
   "execution_count": 67,
   "metadata": {},
   "outputs": [
    {
     "name": "stdout",
     "output_type": "stream",
     "text": [
      "Support Set shape torch.Size([8, 5, 3, 28, 28])\n",
      "Query Set shape torch.Size([8, 5, 3, 28, 28])\n"
     ]
    }
   ],
   "source": [
    "print('Support Set shape', support.shape)\n",
    "print('Query Set shape', queries.shape)"
   ]
  },
  {
   "cell_type": "code",
   "execution_count": 68,
   "metadata": {
    "scrolled": true
   },
   "outputs": [
    {
     "data": {
      "text/plain": [
       "tensor([[[0],\n",
       "         [0],\n",
       "         [0],\n",
       "         [0],\n",
       "         [0]],\n",
       "\n",
       "        [[1],\n",
       "         [1],\n",
       "         [1],\n",
       "         [1],\n",
       "         [1]],\n",
       "\n",
       "        [[2],\n",
       "         [2],\n",
       "         [2],\n",
       "         [2],\n",
       "         [2]],\n",
       "\n",
       "        [[3],\n",
       "         [3],\n",
       "         [3],\n",
       "         [3],\n",
       "         [3]],\n",
       "\n",
       "        [[4],\n",
       "         [4],\n",
       "         [4],\n",
       "         [4],\n",
       "         [4]],\n",
       "\n",
       "        [[5],\n",
       "         [5],\n",
       "         [5],\n",
       "         [5],\n",
       "         [5]],\n",
       "\n",
       "        [[6],\n",
       "         [6],\n",
       "         [6],\n",
       "         [6],\n",
       "         [6]],\n",
       "\n",
       "        [[7],\n",
       "         [7],\n",
       "         [7],\n",
       "         [7],\n",
       "         [7]]])"
      ]
     },
     "execution_count": 68,
     "metadata": {},
     "output_type": "execute_result"
    }
   ],
   "source": [
    "# Get the target indices\n",
    "targets = torch.arange(0, n_way).view(n_way, 1, 1).expand(n_way, n_query, 1).long()\n",
    "targets"
   ]
  },
  {
   "cell_type": "markdown",
   "metadata": {},
   "source": [
    "Compute Embeddings"
   ]
  },
  {
   "cell_type": "code",
   "execution_count": 69,
   "metadata": {},
   "outputs": [
    {
     "data": {
      "text/plain": [
       "torch.Size([40, 3, 28, 28])"
      ]
     },
     "execution_count": 69,
     "metadata": {},
     "output_type": "execute_result"
    }
   ],
   "source": [
    "support.contiguous().view(n_way * k_shot, *support.size()[2:]).shape"
   ]
  },
  {
   "cell_type": "code",
   "execution_count": 70,
   "metadata": {},
   "outputs": [
    {
     "data": {
      "text/plain": [
       "torch.Size([40, 3, 28, 28])"
      ]
     },
     "execution_count": 70,
     "metadata": {},
     "output_type": "execute_result"
    }
   ],
   "source": [
    "queries.contiguous().view(n_way * n_query, *queries.size()[2:]).shape"
   ]
  },
  {
   "cell_type": "code",
   "execution_count": 71,
   "metadata": {},
   "outputs": [
    {
     "data": {
      "text/plain": [
       "torch.Size([80, 3, 28, 28])"
      ]
     },
     "execution_count": 71,
     "metadata": {},
     "output_type": "execute_result"
    }
   ],
   "source": [
    "# Concatenate our support set and query set one after the other for getting embeddings\n",
    "x = torch.cat([support.contiguous().view(n_way * k_shot, *support.size()[2:]), \n",
    "               queries.contiguous().view(n_way * n_query, *queries.size()[2:])], 0)\n",
    "x.shape"
   ]
  },
  {
   "cell_type": "code",
   "execution_count": 72,
   "metadata": {},
   "outputs": [
    {
     "data": {
      "text/plain": [
       "tensor([[1.1022, 1.0267, 0.0000,  ..., 1.9926, 0.8580, 1.5610],\n",
       "        [1.4013, 1.3212, 0.0000,  ..., 1.9195, 0.3236, 1.0642],\n",
       "        [1.9859, 1.7589, 0.4227,  ..., 1.6304, 0.4057, 0.7178],\n",
       "        ...,\n",
       "        [1.6505, 0.6739, 0.2579,  ..., 2.7312, 1.0457, 2.1168],\n",
       "        [1.2668, 1.2517, 0.5820,  ..., 2.4464, 0.9450, 1.8159],\n",
       "        [1.2381, 1.8705, 0.6152,  ..., 2.3050, 0.2815, 1.6858]],\n",
       "       grad_fn=<ViewBackward>)"
      ]
     },
     "execution_count": 72,
     "metadata": {},
     "output_type": "execute_result"
    }
   ],
   "source": [
    "# Compute the embeddings\n",
    "embeds = img2vec(x)\n",
    "embeds"
   ]
  },
  {
   "cell_type": "code",
   "execution_count": 73,
   "metadata": {},
   "outputs": [
    {
     "data": {
      "text/plain": [
       "torch.Size([80, 64])"
      ]
     },
     "execution_count": 73,
     "metadata": {},
     "output_type": "execute_result"
    }
   ],
   "source": [
    "embeds.shape"
   ]
  },
  {
   "cell_type": "code",
   "execution_count": 76,
   "metadata": {},
   "outputs": [],
   "source": [
    "d = embeds.size(1) # 64"
   ]
  },
  {
   "cell_type": "code",
   "execution_count": 77,
   "metadata": {
    "scrolled": true
   },
   "outputs": [
    {
     "data": {
      "text/plain": [
       "tensor([[1.7727, 1.3799, 0.5694, 0.0743, 1.4523, 1.0944, 1.2883, 1.1580, 0.6611,\n",
       "         1.4628, 1.4533, 0.5640, 0.6583, 0.8395, 1.5386, 0.5691, 0.5157, 0.9596,\n",
       "         0.1853, 1.4846, 1.6200, 0.8320, 0.9223, 1.0406, 0.6368, 0.6653, 0.6552,\n",
       "         0.6854, 1.7008, 1.1907, 0.6864, 0.8771, 1.1570, 1.6072, 1.2508, 0.2691,\n",
       "         0.6782, 1.8596, 1.4605, 0.8178, 1.2031, 1.2806, 1.3902, 0.4347, 1.4645,\n",
       "         1.1253, 1.2219, 1.1288, 1.2832, 0.2668, 2.0885, 0.6085, 0.9297, 1.0115,\n",
       "         0.8789, 1.4217, 0.7443, 0.9702, 0.2754, 0.8390, 0.5878, 2.0385, 0.3413,\n",
       "         1.1543],\n",
       "        [1.0784, 0.9691, 0.7820, 0.4674, 1.6777, 1.1997, 1.5639, 0.8574, 1.1706,\n",
       "         0.7531, 1.3660, 1.9734, 0.8744, 0.7091, 0.8725, 0.6674, 0.3232, 0.8829,\n",
       "         0.2204, 1.4184, 1.2411, 1.2839, 1.5177, 1.2010, 0.5864, 0.9159, 0.6811,\n",
       "         1.1865, 1.0510, 0.6907, 0.9775, 0.8436, 1.2261, 1.7077, 1.4403, 0.2419,\n",
       "         1.2979, 1.3357, 1.2870, 0.7124, 0.8515, 0.9745, 1.1639, 0.0481, 1.3895,\n",
       "         1.0938, 1.1877, 0.9821, 0.7666, 0.3612, 1.4671, 0.3408, 0.9336, 0.5386,\n",
       "         0.9525, 1.7863, 0.8316, 0.6812, 0.4301, 1.0112, 0.7413, 1.3893, 0.8593,\n",
       "         1.4178],\n",
       "        [1.6968, 1.8257, 0.5592, 0.0598, 1.8886, 1.1594, 1.7484, 0.8285, 1.9562,\n",
       "         0.9559, 1.1757, 0.4644, 0.9413, 2.2711, 1.3369, 0.6366, 1.2077, 1.2889,\n",
       "         0.5328, 1.5337, 1.7210, 0.2877, 1.7808, 0.9148, 0.8616, 0.9018, 1.1481,\n",
       "         1.6640, 1.3442, 1.7543, 1.1862, 0.6693, 1.8487, 1.3963, 1.2606, 0.2281,\n",
       "         1.4904, 1.7181, 2.4844, 0.4193, 1.2609, 1.0317, 1.4790, 0.5957, 2.2905,\n",
       "         1.1336, 1.4642, 1.4164, 0.8145, 0.4680, 1.6421, 0.5737, 1.1730, 1.9094,\n",
       "         0.6439, 1.6928, 1.5051, 0.9723, 0.6119, 1.0368, 0.5071, 2.0772, 0.6017,\n",
       "         0.9484],\n",
       "        [1.2058, 1.7153, 1.4370, 0.1581, 2.3781, 0.6839, 0.7970, 1.4865, 1.5662,\n",
       "         1.6766, 0.8648, 1.3760, 1.2073, 0.6152, 0.7127, 0.6232, 1.4440, 0.8283,\n",
       "         0.7266, 1.0290, 1.4244, 1.6772, 1.4340, 0.8345, 0.3772, 0.0596, 0.6816,\n",
       "         1.6168, 1.2975, 0.9018, 0.7460, 0.2525, 1.1667, 1.2134, 1.3979, 0.0770,\n",
       "         1.1530, 1.6893, 0.9343, 0.4756, 1.2507, 1.0278, 1.6248, 0.3311, 0.9270,\n",
       "         0.8525, 1.3431, 1.0083, 0.9850, 0.7559, 1.2446, 0.4185, 0.9437, 0.5126,\n",
       "         0.8605, 1.4822, 0.5990, 1.0705, 0.2877, 0.9473, 0.4271, 1.2738, 0.6479,\n",
       "         0.3766],\n",
       "        [1.4607, 1.2645, 0.1512, 0.5513, 1.6363, 1.2172, 1.5536, 1.2230, 0.9672,\n",
       "         1.3552, 2.0586, 0.3020, 1.5541, 1.1458, 0.8347, 0.8238, 0.6647, 0.3856,\n",
       "         0.5428, 1.3672, 1.0124, 0.7118, 1.4625, 1.4932, 0.2740, 0.9594, 0.8153,\n",
       "         0.7279, 1.4608, 1.2906, 0.9000, 0.3845, 1.4988, 2.0391, 1.4271, 0.1305,\n",
       "         1.2505, 1.6342, 2.3142, 1.4108, 1.3091, 1.4561, 1.2532, 0.5303, 1.6593,\n",
       "         0.7766, 0.9553, 1.3632, 0.5524, 1.1447, 0.8830, 0.9415, 1.1783, 0.9168,\n",
       "         0.5483, 1.7057, 1.8348, 0.6070, 0.2216, 0.5465, 0.8904, 1.7300, 0.7113,\n",
       "         1.7175],\n",
       "        [1.6577, 1.9079, 0.0718, 0.1600, 1.1322, 0.9079, 1.6183, 0.6173, 0.7802,\n",
       "         0.8515, 1.2403, 0.3299, 1.2978, 1.0399, 1.4934, 0.4951, 0.9986, 0.5159,\n",
       "         0.8447, 1.1945, 1.9508, 0.1816, 1.5107, 1.2825, 0.7670, 0.5912, 1.4547,\n",
       "         1.4638, 1.6051, 2.0070, 1.6134, 0.2940, 1.6685, 1.5226, 0.9614, 0.1504,\n",
       "         0.8977, 2.0965, 1.0698, 0.4578, 1.5469, 1.2959, 1.3020, 0.4278, 1.4905,\n",
       "         1.1370, 1.9827, 1.4372, 0.3693, 0.5245, 1.8961, 0.1977, 1.6231, 1.1807,\n",
       "         1.0395, 1.5047, 1.4909, 0.4505, 0.7350, 0.8184, 0.3882, 1.6684, 0.7734,\n",
       "         0.8812],\n",
       "        [1.7184, 1.4968, 0.4418, 0.1727, 1.5001, 1.1165, 1.2857, 0.9039, 0.5891,\n",
       "         0.6893, 1.5747, 0.6348, 1.0816, 1.2343, 0.7399, 0.6228, 0.6941, 0.8218,\n",
       "         0.6124, 1.7766, 1.3013, 0.5414, 0.7942, 1.2988, 1.2640, 0.4472, 0.9558,\n",
       "         1.1906, 1.4092, 1.0054, 1.1538, 0.3416, 1.5239, 1.9060, 1.3294, 0.1911,\n",
       "         0.9503, 1.8027, 0.8000, 0.3093, 1.5051, 1.1344, 1.8387, 0.2371, 1.3589,\n",
       "         0.8636, 1.2709, 1.1752, 1.0480, 0.2455, 1.8673, 0.4365, 1.2440, 1.0171,\n",
       "         1.5838, 1.5516, 0.9435, 0.7420, 0.7301, 0.7597, 0.4586, 1.6350, 0.2475,\n",
       "         1.1718],\n",
       "        [1.6773, 1.5626, 0.1909, 0.4285, 2.0258, 1.1501, 1.9342, 0.9690, 0.9144,\n",
       "         0.9908, 1.7008, 0.4042, 0.6064, 2.0210, 1.1148, 0.9665, 0.9631, 1.3246,\n",
       "         0.3641, 1.7340, 2.1565, 1.1771, 1.9123, 1.0585, 0.4439, 0.8928, 1.2520,\n",
       "         1.0774, 1.3769, 1.0946, 0.9430, 0.5388, 1.5264, 1.6174, 1.6991, 0.0341,\n",
       "         0.6370, 1.9950, 1.5593, 0.4757, 0.7511, 1.2106, 1.2032, 0.5988, 2.1512,\n",
       "         1.5371, 1.0862, 1.1871, 0.8027, 0.2006, 1.5401, 0.9106, 1.4037, 2.0091,\n",
       "         0.7787, 1.7605, 1.3554, 0.6127, 0.0629, 0.5857, 0.4252, 2.1264, 0.2666,\n",
       "         1.5977]], grad_fn=<MeanBackward1>)"
      ]
     },
     "execution_count": 77,
     "metadata": {},
     "output_type": "execute_result"
    }
   ],
   "source": [
    "# Compute prototypes\n",
    "protos = embeds[:n_way * k_shot].view(n_way, k_shot, d).mean(1)\n",
    "protos"
   ]
  },
  {
   "cell_type": "code",
   "execution_count": 78,
   "metadata": {},
   "outputs": [
    {
     "data": {
      "text/plain": [
       "torch.Size([8, 64])"
      ]
     },
     "execution_count": 78,
     "metadata": {},
     "output_type": "execute_result"
    }
   ],
   "source": [
    "protos.shape"
   ]
  },
  {
   "cell_type": "code",
   "execution_count": 79,
   "metadata": {},
   "outputs": [
    {
     "data": {
      "text/plain": [
       "tensor([[1.2122, 1.1866, 0.0000,  ..., 1.9737, 0.7022, 0.6564],\n",
       "        [1.4856, 1.4043, 0.0000,  ..., 1.5301, 0.6007, 1.2019],\n",
       "        [1.8529, 2.3469, 0.2154,  ..., 2.0572, 0.0000, 0.9588],\n",
       "        ...,\n",
       "        [1.6505, 0.6739, 0.2579,  ..., 2.7312, 1.0457, 2.1168],\n",
       "        [1.2668, 1.2517, 0.5820,  ..., 2.4464, 0.9450, 1.8159],\n",
       "        [1.2381, 1.8705, 0.6152,  ..., 2.3050, 0.2815, 1.6858]],\n",
       "       grad_fn=<SliceBackward>)"
      ]
     },
     "execution_count": 79,
     "metadata": {},
     "output_type": "execute_result"
    }
   ],
   "source": [
    "# Get query embeddings\n",
    "query_embeds = embeds[n_way * k_shot:]\n",
    "query_embeds"
   ]
  },
  {
   "cell_type": "code",
   "execution_count": 80,
   "metadata": {},
   "outputs": [
    {
     "data": {
      "text/plain": [
       "torch.Size([40, 64])"
      ]
     },
     "execution_count": 80,
     "metadata": {},
     "output_type": "execute_result"
    }
   ],
   "source": [
    "query_embeds.shape"
   ]
  },
  {
   "cell_type": "markdown",
   "metadata": {},
   "source": [
    "Compute the euclidean distances"
   ]
  },
  {
   "cell_type": "code",
   "execution_count": 84,
   "metadata": {},
   "outputs": [],
   "source": [
    "n = query_embeds.size(0) # 40\n",
    "m = protos.size(0) # 8"
   ]
  },
  {
   "cell_type": "code",
   "execution_count": 86,
   "metadata": {
    "scrolled": true
   },
   "outputs": [
    {
     "data": {
      "text/plain": [
       "tensor([[[1.2122, 1.1866, 0.0000,  ..., 1.9737, 0.7022, 0.6564],\n",
       "         [1.2122, 1.1866, 0.0000,  ..., 1.9737, 0.7022, 0.6564],\n",
       "         [1.2122, 1.1866, 0.0000,  ..., 1.9737, 0.7022, 0.6564],\n",
       "         ...,\n",
       "         [1.2122, 1.1866, 0.0000,  ..., 1.9737, 0.7022, 0.6564],\n",
       "         [1.2122, 1.1866, 0.0000,  ..., 1.9737, 0.7022, 0.6564],\n",
       "         [1.2122, 1.1866, 0.0000,  ..., 1.9737, 0.7022, 0.6564]],\n",
       "\n",
       "        [[1.4856, 1.4043, 0.0000,  ..., 1.5301, 0.6007, 1.2019],\n",
       "         [1.4856, 1.4043, 0.0000,  ..., 1.5301, 0.6007, 1.2019],\n",
       "         [1.4856, 1.4043, 0.0000,  ..., 1.5301, 0.6007, 1.2019],\n",
       "         ...,\n",
       "         [1.4856, 1.4043, 0.0000,  ..., 1.5301, 0.6007, 1.2019],\n",
       "         [1.4856, 1.4043, 0.0000,  ..., 1.5301, 0.6007, 1.2019],\n",
       "         [1.4856, 1.4043, 0.0000,  ..., 1.5301, 0.6007, 1.2019]],\n",
       "\n",
       "        [[1.8529, 2.3469, 0.2154,  ..., 2.0572, 0.0000, 0.9588],\n",
       "         [1.8529, 2.3469, 0.2154,  ..., 2.0572, 0.0000, 0.9588],\n",
       "         [1.8529, 2.3469, 0.2154,  ..., 2.0572, 0.0000, 0.9588],\n",
       "         ...,\n",
       "         [1.8529, 2.3469, 0.2154,  ..., 2.0572, 0.0000, 0.9588],\n",
       "         [1.8529, 2.3469, 0.2154,  ..., 2.0572, 0.0000, 0.9588],\n",
       "         [1.8529, 2.3469, 0.2154,  ..., 2.0572, 0.0000, 0.9588]],\n",
       "\n",
       "        ...,\n",
       "\n",
       "        [[1.6505, 0.6739, 0.2579,  ..., 2.7312, 1.0457, 2.1168],\n",
       "         [1.6505, 0.6739, 0.2579,  ..., 2.7312, 1.0457, 2.1168],\n",
       "         [1.6505, 0.6739, 0.2579,  ..., 2.7312, 1.0457, 2.1168],\n",
       "         ...,\n",
       "         [1.6505, 0.6739, 0.2579,  ..., 2.7312, 1.0457, 2.1168],\n",
       "         [1.6505, 0.6739, 0.2579,  ..., 2.7312, 1.0457, 2.1168],\n",
       "         [1.6505, 0.6739, 0.2579,  ..., 2.7312, 1.0457, 2.1168]],\n",
       "\n",
       "        [[1.2668, 1.2517, 0.5820,  ..., 2.4464, 0.9450, 1.8159],\n",
       "         [1.2668, 1.2517, 0.5820,  ..., 2.4464, 0.9450, 1.8159],\n",
       "         [1.2668, 1.2517, 0.5820,  ..., 2.4464, 0.9450, 1.8159],\n",
       "         ...,\n",
       "         [1.2668, 1.2517, 0.5820,  ..., 2.4464, 0.9450, 1.8159],\n",
       "         [1.2668, 1.2517, 0.5820,  ..., 2.4464, 0.9450, 1.8159],\n",
       "         [1.2668, 1.2517, 0.5820,  ..., 2.4464, 0.9450, 1.8159]],\n",
       "\n",
       "        [[1.2381, 1.8705, 0.6152,  ..., 2.3050, 0.2815, 1.6858],\n",
       "         [1.2381, 1.8705, 0.6152,  ..., 2.3050, 0.2815, 1.6858],\n",
       "         [1.2381, 1.8705, 0.6152,  ..., 2.3050, 0.2815, 1.6858],\n",
       "         ...,\n",
       "         [1.2381, 1.8705, 0.6152,  ..., 2.3050, 0.2815, 1.6858],\n",
       "         [1.2381, 1.8705, 0.6152,  ..., 2.3050, 0.2815, 1.6858],\n",
       "         [1.2381, 1.8705, 0.6152,  ..., 2.3050, 0.2815, 1.6858]]],\n",
       "       grad_fn=<ExpandBackward>)"
      ]
     },
     "execution_count": 86,
     "metadata": {},
     "output_type": "execute_result"
    }
   ],
   "source": [
    "queries_expanded = query_embeds.unsqueeze(1).expand(n, m, d)\n",
    "queries_expanded # (40, 8, 64)"
   ]
  },
  {
   "cell_type": "code",
   "execution_count": 88,
   "metadata": {
    "scrolled": true
   },
   "outputs": [
    {
     "data": {
      "text/plain": [
       "tensor([[[1.7727, 1.3799, 0.5694,  ..., 2.0385, 0.3413, 1.1543],\n",
       "         [1.0784, 0.9691, 0.7820,  ..., 1.3893, 0.8593, 1.4178],\n",
       "         [1.6968, 1.8257, 0.5592,  ..., 2.0772, 0.6017, 0.9484],\n",
       "         ...,\n",
       "         [1.6577, 1.9079, 0.0718,  ..., 1.6684, 0.7734, 0.8812],\n",
       "         [1.7184, 1.4968, 0.4418,  ..., 1.6350, 0.2475, 1.1718],\n",
       "         [1.6773, 1.5626, 0.1909,  ..., 2.1264, 0.2666, 1.5977]],\n",
       "\n",
       "        [[1.7727, 1.3799, 0.5694,  ..., 2.0385, 0.3413, 1.1543],\n",
       "         [1.0784, 0.9691, 0.7820,  ..., 1.3893, 0.8593, 1.4178],\n",
       "         [1.6968, 1.8257, 0.5592,  ..., 2.0772, 0.6017, 0.9484],\n",
       "         ...,\n",
       "         [1.6577, 1.9079, 0.0718,  ..., 1.6684, 0.7734, 0.8812],\n",
       "         [1.7184, 1.4968, 0.4418,  ..., 1.6350, 0.2475, 1.1718],\n",
       "         [1.6773, 1.5626, 0.1909,  ..., 2.1264, 0.2666, 1.5977]],\n",
       "\n",
       "        [[1.7727, 1.3799, 0.5694,  ..., 2.0385, 0.3413, 1.1543],\n",
       "         [1.0784, 0.9691, 0.7820,  ..., 1.3893, 0.8593, 1.4178],\n",
       "         [1.6968, 1.8257, 0.5592,  ..., 2.0772, 0.6017, 0.9484],\n",
       "         ...,\n",
       "         [1.6577, 1.9079, 0.0718,  ..., 1.6684, 0.7734, 0.8812],\n",
       "         [1.7184, 1.4968, 0.4418,  ..., 1.6350, 0.2475, 1.1718],\n",
       "         [1.6773, 1.5626, 0.1909,  ..., 2.1264, 0.2666, 1.5977]],\n",
       "\n",
       "        ...,\n",
       "\n",
       "        [[1.7727, 1.3799, 0.5694,  ..., 2.0385, 0.3413, 1.1543],\n",
       "         [1.0784, 0.9691, 0.7820,  ..., 1.3893, 0.8593, 1.4178],\n",
       "         [1.6968, 1.8257, 0.5592,  ..., 2.0772, 0.6017, 0.9484],\n",
       "         ...,\n",
       "         [1.6577, 1.9079, 0.0718,  ..., 1.6684, 0.7734, 0.8812],\n",
       "         [1.7184, 1.4968, 0.4418,  ..., 1.6350, 0.2475, 1.1718],\n",
       "         [1.6773, 1.5626, 0.1909,  ..., 2.1264, 0.2666, 1.5977]],\n",
       "\n",
       "        [[1.7727, 1.3799, 0.5694,  ..., 2.0385, 0.3413, 1.1543],\n",
       "         [1.0784, 0.9691, 0.7820,  ..., 1.3893, 0.8593, 1.4178],\n",
       "         [1.6968, 1.8257, 0.5592,  ..., 2.0772, 0.6017, 0.9484],\n",
       "         ...,\n",
       "         [1.6577, 1.9079, 0.0718,  ..., 1.6684, 0.7734, 0.8812],\n",
       "         [1.7184, 1.4968, 0.4418,  ..., 1.6350, 0.2475, 1.1718],\n",
       "         [1.6773, 1.5626, 0.1909,  ..., 2.1264, 0.2666, 1.5977]],\n",
       "\n",
       "        [[1.7727, 1.3799, 0.5694,  ..., 2.0385, 0.3413, 1.1543],\n",
       "         [1.0784, 0.9691, 0.7820,  ..., 1.3893, 0.8593, 1.4178],\n",
       "         [1.6968, 1.8257, 0.5592,  ..., 2.0772, 0.6017, 0.9484],\n",
       "         ...,\n",
       "         [1.6577, 1.9079, 0.0718,  ..., 1.6684, 0.7734, 0.8812],\n",
       "         [1.7184, 1.4968, 0.4418,  ..., 1.6350, 0.2475, 1.1718],\n",
       "         [1.6773, 1.5626, 0.1909,  ..., 2.1264, 0.2666, 1.5977]]],\n",
       "       grad_fn=<ExpandBackward>)"
      ]
     },
     "execution_count": 88,
     "metadata": {},
     "output_type": "execute_result"
    }
   ],
   "source": [
    "protos_expanded = protos.unsqueeze(0).expand(n, m, d)\n",
    "protos_expanded # (40, 8, 64)"
   ]
  },
  {
   "cell_type": "code",
   "execution_count": 91,
   "metadata": {
    "scrolled": true
   },
   "outputs": [
    {
     "data": {
      "text/plain": [
       "tensor([[19.6701, 21.5831, 28.9834, 17.5571, 22.7283, 16.8089, 16.8804, 29.9129],\n",
       "        [13.6924, 15.9849, 25.2635, 23.9843, 20.6786, 18.6670, 13.5503, 23.0578],\n",
       "        [13.5561, 22.2678, 20.8243, 17.5599, 25.2794, 17.9123, 16.6159, 22.7450],\n",
       "        [24.6884, 24.3688, 30.1246, 20.4578, 23.1189, 20.3681, 19.2400, 36.1382],\n",
       "        [19.7303, 23.5405, 26.4508, 25.6062, 32.3252, 30.5579, 22.6733, 20.8097],\n",
       "        [20.8356, 17.2133, 35.0748, 26.2276, 29.4145, 28.0322, 20.7528, 28.3812],\n",
       "        [25.5387, 21.7481, 23.5753, 19.8942, 30.1111, 30.3409, 27.3074, 21.8187],\n",
       "        [14.7976, 13.0619, 23.5642, 20.8001, 20.9580, 25.4101, 16.7929, 21.9584],\n",
       "        [25.6248, 14.7292, 28.8249, 21.6467, 26.5108, 30.8992, 24.1417, 28.1295],\n",
       "        [15.5201, 11.6913, 29.4572, 19.7205, 24.4660, 26.4719, 16.4078, 23.9119],\n",
       "        [14.5653, 16.3525, 10.9960, 22.5646, 18.1606, 13.7269, 12.7770, 13.6198],\n",
       "        [24.1067, 25.8352, 12.4032, 33.4370, 25.0808, 24.5142, 22.6884, 20.0627],\n",
       "        [31.7338, 37.0960, 27.1819, 42.7051, 27.4190, 21.7331, 29.3544, 35.6949],\n",
       "        [25.7886, 26.0912, 26.3705, 29.7593, 23.3318, 18.9667, 21.4011, 34.0446],\n",
       "        [32.8888, 34.9855, 22.4930, 45.5691, 40.6286, 32.7601, 35.8312, 25.3873],\n",
       "        [25.7800, 21.2479, 39.4344, 19.9309, 33.6542, 34.8249, 30.5625, 39.0243],\n",
       "        [28.2042, 29.0932, 32.1513, 21.3847, 33.2063, 31.5063, 34.0519, 37.4288],\n",
       "        [17.6134, 14.5141, 34.6285, 15.6714, 26.4903, 25.9348, 19.8585, 31.9270],\n",
       "        [28.9597, 26.5837, 40.6263, 15.6796, 38.3603, 39.4519, 36.2362, 43.9790],\n",
       "        [23.7344, 21.3552, 33.9390, 25.7110, 28.2048, 27.2256, 20.0004, 31.5275],\n",
       "        [22.5755, 26.0608, 34.0717, 38.9783, 23.2682, 25.9892, 20.2519, 25.2662],\n",
       "        [19.8042, 20.8357, 32.0711, 32.2339, 21.2195, 28.4691, 18.5785, 23.9357],\n",
       "        [30.2836, 32.7421, 45.7858, 43.5541, 25.2035, 45.9923, 35.9666, 39.7808],\n",
       "        [16.7291, 19.6440, 33.6779, 33.3825, 13.8899, 21.2237, 19.2781, 23.1198],\n",
       "        [25.6013, 29.5690, 27.9522, 37.6810, 21.4519, 26.1974, 22.6166, 25.9526],\n",
       "        [21.0366, 26.1472, 24.0318, 35.9303, 19.7367, 16.4523, 21.1067, 24.5929],\n",
       "        [32.3366, 35.6655, 31.4506, 47.5893, 29.6089, 22.6108, 33.8613, 29.8442],\n",
       "        [23.7269, 27.0778, 27.7053, 30.8050, 34.2072, 22.7047, 25.0427, 23.4275],\n",
       "        [18.8580, 23.0426, 20.4291, 23.3655, 27.6523, 15.2766, 15.1568, 27.8729],\n",
       "        [29.9664, 35.4105, 26.0240, 39.9310, 32.4114, 18.7589, 26.4184, 30.7519],\n",
       "        [22.8537, 23.5453, 32.2759, 19.5395, 31.6924, 35.7376, 24.0937, 33.8105],\n",
       "        [31.8133, 27.4895, 31.1689, 31.9956, 34.8677, 24.6600, 18.8421, 37.2467],\n",
       "        [23.0338, 28.8748, 28.8754, 40.9466, 17.4461, 30.3552, 25.5358, 24.3921],\n",
       "        [18.3147, 15.8825, 32.6618, 31.4717, 19.4711, 22.2390, 15.1687, 26.6885],\n",
       "        [13.5162, 20.4012, 21.9654, 19.2136, 26.9207, 20.4639, 15.3964, 23.9968],\n",
       "        [34.7454, 36.5913, 25.6375, 45.7471, 27.0613, 31.9981, 38.7546, 21.4041],\n",
       "        [30.9020, 33.5165, 29.7966, 50.7230, 32.5397, 29.1877, 32.6135, 24.6809],\n",
       "        [23.2143, 23.7738, 28.1775, 36.3898, 32.3319, 21.3481, 21.2219, 18.6653],\n",
       "        [25.8596, 27.4472, 18.5861, 32.7633, 21.8760, 29.3706, 29.2225, 19.1407],\n",
       "        [35.8218, 39.6989, 24.6030, 50.4529, 35.2451, 36.0623, 38.5663, 20.4767]],\n",
       "       grad_fn=<SumBackward1>)"
      ]
     },
     "execution_count": 91,
     "metadata": {},
     "output_type": "execute_result"
    }
   ],
   "source": [
    "# Euclidean distance\n",
    "distances = torch.pow(queries_expanded - protos_expanded, 2).sum(2) # of shape n x m\n",
    "distances # (40, 8)"
   ]
  },
  {
   "cell_type": "code",
   "execution_count": 94,
   "metadata": {
    "scrolled": true
   },
   "outputs": [
    {
     "data": {
      "text/plain": [
       "tensor([[[-3.7665e+00, -5.6795e+00, -1.3080e+01, -1.6534e+00, -6.8247e+00,\n",
       "          -9.0523e-01, -9.7678e-01, -1.4009e+01],\n",
       "         [-8.1611e-01, -3.1086e+00, -1.2387e+01, -1.1108e+01, -7.8023e+00,\n",
       "          -5.7907e+00, -6.7400e-01, -1.0181e+01],\n",
       "         [-7.5981e-02, -8.7877e+00, -7.3442e+00, -4.0798e+00, -1.1799e+01,\n",
       "          -4.4322e+00, -3.1358e+00, -9.2649e+00],\n",
       "         [-5.9494e+00, -5.6298e+00, -1.1386e+01, -1.7189e+00, -4.3800e+00,\n",
       "          -1.6292e+00, -5.0104e-01, -1.7399e+01],\n",
       "         [-3.4973e-01, -4.1599e+00, -7.0702e+00, -6.2256e+00, -1.2945e+01,\n",
       "          -1.1177e+01, -3.2927e+00, -1.4291e+00]],\n",
       "\n",
       "        [[-3.6767e+00, -5.4404e-02, -1.7916e+01, -9.0687e+00, -1.2256e+01,\n",
       "          -1.0873e+01, -3.5939e+00, -1.1222e+01],\n",
       "         [-5.9312e+00, -2.1406e+00, -3.9678e+00, -2.8665e-01, -1.0504e+01,\n",
       "          -1.0733e+01, -7.6998e+00, -2.2112e+00],\n",
       "         [-1.9190e+00, -1.8334e-01, -1.0686e+01, -7.9215e+00, -8.0794e+00,\n",
       "          -1.2532e+01, -3.9144e+00, -9.0799e+00],\n",
       "         [-1.0897e+01, -1.0999e-03, -1.4097e+01, -6.9186e+00, -1.1783e+01,\n",
       "          -1.6171e+01, -9.4136e+00, -1.3401e+01],\n",
       "         [-3.8594e+00, -3.0543e-02, -1.7796e+01, -8.0598e+00, -1.2805e+01,\n",
       "          -1.4811e+01, -4.7471e+00, -1.2251e+01]],\n",
       "\n",
       "        [[-3.8618e+00, -5.6490e+00, -2.9255e-01, -1.1861e+01, -7.4571e+00,\n",
       "          -3.0234e+00, -2.0736e+00, -2.9163e+00],\n",
       "         [-1.1704e+01, -1.3433e+01, -5.2391e-04, -2.1034e+01, -1.2678e+01,\n",
       "          -1.2112e+01, -1.0286e+01, -7.6600e+00],\n",
       "         [-1.0009e+01, -1.5371e+01, -5.4570e+00, -2.0980e+01, -5.6941e+00,\n",
       "          -8.1975e-03, -7.6295e+00, -1.3970e+01],\n",
       "         [-6.9198e+00, -7.2225e+00, -7.5018e+00, -1.0891e+01, -4.4631e+00,\n",
       "          -9.7928e-02, -2.5324e+00, -1.5176e+01],\n",
       "         [-1.0450e+01, -1.2546e+01, -5.3930e-02, -2.3130e+01, -1.8189e+01,\n",
       "          -1.0321e+01, -1.3392e+01, -2.9482e+00]],\n",
       "\n",
       "        [[-6.0887e+00, -1.5567e+00, -1.9743e+01, -2.3968e-01, -1.3963e+01,\n",
       "          -1.5134e+01, -1.0871e+01, -1.9333e+01],\n",
       "         [-6.8212e+00, -7.7101e+00, -1.0768e+01, -1.6117e-03, -1.1823e+01,\n",
       "          -1.0123e+01, -1.2669e+01, -1.6046e+01],\n",
       "         [-3.4099e+00, -3.1057e-01, -2.0425e+01, -1.4679e+00, -1.2287e+01,\n",
       "          -1.1731e+01, -5.6550e+00, -1.7724e+01],\n",
       "         [-1.3280e+01, -1.0904e+01, -2.4947e+01, -2.0146e-05, -2.2681e+01,\n",
       "          -2.3772e+01, -2.0557e+01, -2.8299e+01],\n",
       "         [-3.9858e+00, -1.6065e+00, -1.4190e+01, -5.9623e+00, -8.4561e+00,\n",
       "          -7.4769e+00, -2.5171e-01, -1.1779e+01]],\n",
       "\n",
       "        [[-2.4719e+00, -5.9571e+00, -1.3968e+01, -1.8875e+01, -3.1645e+00,\n",
       "          -5.8855e+00, -1.4821e-01, -5.1625e+00],\n",
       "         [-1.6139e+00, -2.6454e+00, -1.3881e+01, -1.4044e+01, -3.0292e+00,\n",
       "          -1.0279e+01, -3.8814e-01, -5.7453e+00],\n",
       "         [-5.0869e+00, -7.5454e+00, -2.0589e+01, -1.8357e+01, -6.7502e-03,\n",
       "          -2.0796e+01, -1.0770e+01, -1.4584e+01],\n",
       "         [-2.9040e+00, -5.8189e+00, -1.9853e+01, -1.9557e+01, -6.4816e-02,\n",
       "          -7.3986e+00, -5.4530e+00, -9.2947e+00],\n",
       "         [-4.4491e+00, -8.4168e+00, -6.8000e+00, -1.6529e+01, -2.9965e-01,\n",
       "          -5.0452e+00, -1.4643e+00, -4.8003e+00]],\n",
       "\n",
       "        [[-4.6407e+00, -9.7513e+00, -7.6360e+00, -1.9534e+01, -3.3408e+00,\n",
       "          -5.6436e-02, -4.7108e+00, -8.1971e+00],\n",
       "         [-9.7277e+00, -1.3057e+01, -8.8417e+00, -2.4980e+01, -6.9999e+00,\n",
       "          -1.8537e-03, -1.1252e+01, -7.2353e+00],\n",
       "         [-1.6958e+00, -5.0467e+00, -5.6742e+00, -8.7740e+00, -1.2176e+01,\n",
       "          -6.7365e-01, -3.0117e+00, -1.3964e+00],\n",
       "         [-4.3522e+00, -8.5369e+00, -5.9234e+00, -8.8598e+00, -1.3147e+01,\n",
       "          -7.7087e-01, -6.5106e-01, -1.3367e+01],\n",
       "         [-1.1209e+01, -1.6653e+01, -7.2663e+00, -2.1173e+01, -1.3654e+01,\n",
       "          -1.1913e-03, -7.6608e+00, -1.1994e+01]],\n",
       "\n",
       "        [[-3.3773e+00, -4.0689e+00, -1.2799e+01, -6.3071e-02, -1.2216e+01,\n",
       "          -1.6261e+01, -4.6173e+00, -1.4334e+01],\n",
       "         [-1.2974e+01, -8.6506e+00, -1.2330e+01, -1.3157e+01, -1.6029e+01,\n",
       "          -5.8210e+00, -3.1534e-03, -1.8408e+01],\n",
       "         [-5.5927e+00, -1.1434e+01, -1.1434e+01, -2.3505e+01, -5.0247e-03,\n",
       "          -1.2914e+01, -8.0947e+00, -6.9510e+00],\n",
       "         [-3.5824e+00, -1.1503e+00, -1.7930e+01, -1.6739e+01, -4.7389e+00,\n",
       "          -7.5068e+00, -4.3642e-01, -1.1956e+01],\n",
       "         [-1.4682e-01, -7.0318e+00, -8.5960e+00, -5.8442e+00, -1.3551e+01,\n",
       "          -7.0946e+00, -2.0270e+00, -1.0627e+01]],\n",
       "\n",
       "        [[-1.3359e+01, -1.5205e+01, -4.2512e+00, -2.4361e+01, -5.6751e+00,\n",
       "          -1.0612e+01, -1.7368e+01, -1.7862e-02],\n",
       "         [-6.2408e+00, -8.8553e+00, -5.1353e+00, -2.6062e+01, -7.8785e+00,\n",
       "          -4.5265e+00, -7.9523e+00, -1.9719e-02],\n",
       "         [-4.6997e+00, -5.2592e+00, -9.6629e+00, -1.7875e+01, -1.3817e+01,\n",
       "          -2.8335e+00, -2.7073e+00, -1.5069e-01],\n",
       "         [-7.7512e+00, -9.3389e+00, -4.7775e-01, -1.4655e+01, -3.7677e+00,\n",
       "          -1.1262e+01, -1.1114e+01, -1.0323e+00],\n",
       "         [-1.5361e+01, -1.9238e+01, -4.1423e+00, -2.9992e+01, -1.4784e+01,\n",
       "          -1.5602e+01, -1.8106e+01, -1.6014e-02]]], grad_fn=<ViewBackward>)"
      ]
     },
     "execution_count": 94,
     "metadata": {},
     "output_type": "execute_result"
    }
   ],
   "source": [
    "# Compute Log Softmax over the inverse of euclidean distances\n",
    "log_p = F.log_softmax(-distances, dim=1).view(n_way, n_query, -1)\n",
    "log_p"
   ]
  },
  {
   "cell_type": "code",
   "execution_count": 98,
   "metadata": {},
   "outputs": [
    {
     "data": {
      "text/plain": [
       "tensor([[3.7665e+00, 8.1611e-01, 7.5981e-02, 5.9494e+00, 3.4973e-01],\n",
       "        [5.4404e-02, 2.1406e+00, 1.8334e-01, 1.0999e-03, 3.0543e-02],\n",
       "        [2.9255e-01, 5.2391e-04, 5.4570e+00, 7.5018e+00, 5.3930e-02],\n",
       "        [2.3968e-01, 1.6117e-03, 1.4679e+00, 2.0146e-05, 5.9623e+00],\n",
       "        [3.1645e+00, 3.0292e+00, 6.7502e-03, 6.4816e-02, 2.9965e-01],\n",
       "        [5.6436e-02, 1.8537e-03, 6.7365e-01, 7.7087e-01, 1.1913e-03],\n",
       "        [4.6173e+00, 3.1534e-03, 8.0947e+00, 4.3642e-01, 2.0270e+00],\n",
       "        [1.7862e-02, 1.9719e-02, 1.5069e-01, 1.0323e+00, 1.6014e-02]],\n",
       "       grad_fn=<SqueezeBackward0>)"
      ]
     },
     "execution_count": 98,
     "metadata": {},
     "output_type": "execute_result"
    }
   ],
   "source": [
    "# Compute the negative of log softmax for correct classes (NLL)\n",
    "neg_log_p = -log_p.gather(2, targets)\n",
    "neg_log_p.squeeze() # (8, 5)"
   ]
  },
  {
   "cell_type": "code",
   "execution_count": 101,
   "metadata": {},
   "outputs": [
    {
     "data": {
      "text/plain": [
       "tensor(1.4707, grad_fn=<MeanBackward0>)"
      ]
     },
     "execution_count": 101,
     "metadata": {},
     "output_type": "execute_result"
    }
   ],
   "source": [
    "# Calculate the mean NLL loss\n",
    "loss = neg_log_p.squeeze().view(-1).mean()\n",
    "loss"
   ]
  },
  {
   "cell_type": "code",
   "execution_count": 102,
   "metadata": {},
   "outputs": [
    {
     "data": {
      "text/plain": [
       "tensor([[5, 6, 0, 6, 0],\n",
       "        [1, 3, 1, 1, 1],\n",
       "        [2, 2, 5, 5, 2],\n",
       "        [3, 3, 1, 3, 6],\n",
       "        [6, 6, 4, 4, 4],\n",
       "        [5, 5, 5, 6, 5],\n",
       "        [3, 6, 4, 6, 0],\n",
       "        [7, 7, 7, 2, 7]])"
      ]
     },
     "execution_count": 102,
     "metadata": {},
     "output_type": "execute_result"
    }
   ],
   "source": [
    "# Get predictions and calculate accuracy\n",
    "y_hat = log_p.argmax(2)\n",
    "y_hat"
   ]
  },
  {
   "cell_type": "code",
   "execution_count": 104,
   "metadata": {},
   "outputs": [
    {
     "data": {
      "text/plain": [
       "tensor([[0, 0, 0, 0, 0],\n",
       "        [1, 1, 1, 1, 1],\n",
       "        [2, 2, 2, 2, 2],\n",
       "        [3, 3, 3, 3, 3],\n",
       "        [4, 4, 4, 4, 4],\n",
       "        [5, 5, 5, 5, 5],\n",
       "        [6, 6, 6, 6, 6],\n",
       "        [7, 7, 7, 7, 7]])"
      ]
     },
     "execution_count": 104,
     "metadata": {},
     "output_type": "execute_result"
    }
   ],
   "source": [
    "targets.squeeze()"
   ]
  },
  {
   "cell_type": "code",
   "execution_count": null,
   "metadata": {},
   "outputs": [],
   "source": [
    "# Accuracy calculation\n",
    "accuracy = torch.eq(y_hat, targets.squeeze()).float().mean()\n",
    "accuracy"
   ]
  },
  {
   "cell_type": "code",
   "execution_count": null,
   "metadata": {},
   "outputs": [],
   "source": []
  }
 ],
 "metadata": {
  "kernelspec": {
   "display_name": "Python 3",
   "language": "python",
   "name": "python3"
  },
  "language_info": {
   "codemirror_mode": {
    "name": "ipython",
    "version": 3
   },
   "file_extension": ".py",
   "mimetype": "text/x-python",
   "name": "python",
   "nbconvert_exporter": "python",
   "pygments_lexer": "ipython3",
   "version": "3.6.10"
  },
  "widgets": {
   "application/vnd.jupyter.widget-state+json": {
    "state": {},
    "version_major": 2,
    "version_minor": 0
   }
  }
 },
 "nbformat": 4,
 "nbformat_minor": 4
}
