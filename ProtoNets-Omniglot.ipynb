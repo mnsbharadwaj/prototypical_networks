{
 "cells": [
  {
   "cell_type": "markdown",
   "metadata": {},
   "source": [
    "# Prototypical Networks\n",
    "### on the Omniglot Dataset"
   ]
  },
  {
   "cell_type": "code",
   "execution_count": 2,
   "metadata": {},
   "outputs": [],
   "source": [
    "import numpy as np\n",
    "import os\n",
    "import cv2\n",
    "from scipy import ndimage\n",
    "from tqdm.notebook import tqdm\n",
    "import matplotlib.pyplot as plt\n",
    "\n",
    "import torch\n",
    "from torch import nn\n",
    "import torch.nn.functional as F\n",
    "import torchvision"
   ]
  },
  {
   "cell_type": "markdown",
   "metadata": {},
   "source": [
    "## Load Dataset"
   ]
  },
  {
   "cell_type": "code",
   "execution_count": 3,
   "metadata": {},
   "outputs": [],
   "source": [
    "def load_characters(root, alphabet):\n",
    "    '''\n",
    "    Loads the characters from a given alphabet\n",
    "    Args:\n",
    "        root (str): Root directory\n",
    "        alphabet (str): folder name of alphabet\n",
    "    Returns:\n",
    "        (tuple) of:\n",
    "            (list): images\n",
    "            (list): labels\n",
    "    '''\n",
    "    X = []\n",
    "    y = []\n",
    "    \n",
    "    alphabet_path = os.path.join(root, alphabet)\n",
    "    characters = os.listdir(alphabet_path)\n",
    "    \n",
    "    for char in characters:\n",
    "        char_path = os.path.join(alphabet_path, char)\n",
    "        images = os.listdir(char_path)\n",
    "        \n",
    "        for img in images:\n",
    "            image = cv2.imread(os.path.join(char_path, img))\n",
    "            image = cv2.resize(image, (28, 28)) / 255\n",
    "            \n",
    "            # Augmentations to add 3 new classes by rotating each class\n",
    "            rotated_90 = ndimage.rotate(image, 90)\n",
    "            rotated_180 = ndimage.rotate(image, 180)\n",
    "            rotated_270 = ndimage.rotate(image, 270)\n",
    "            \n",
    "            X.extend((image, rotated_90, rotated_180, rotated_270))\n",
    "            y.extend((f'{alphabet}_{char}_0', \n",
    "                      f'{alphabet}_{char}_90', \n",
    "                      f'{alphabet}_{char}_180', \n",
    "                      f'{alphabet}_{char}_270'))\n",
    "    \n",
    "    return X, y"
   ]
  },
  {
   "cell_type": "code",
   "execution_count": 4,
   "metadata": {},
   "outputs": [],
   "source": [
    "def load_data(root):\n",
    "    '''\n",
    "    Loads the full omniglot dataset from a root directory\n",
    "    Args:\n",
    "        root (str): path of omniglot dataset\n",
    "    Returns:\n",
    "        (tuple) of:\n",
    "            (ndarray): images\n",
    "            (ndarray): labels\n",
    "    '''\n",
    "    X_data = []\n",
    "    y_data = []\n",
    "    \n",
    "    alphabets = os.listdir(root)\n",
    "    for alphabet in tqdm(alphabets):\n",
    "        X, y = load_characters(root, alphabet)\n",
    "        X_data.extend(X)\n",
    "        y_data.extend(y)\n",
    "    \n",
    "    return np.array(X_data), np.array(y_data)"
   ]
  },
  {
   "cell_type": "code",
   "execution_count": 5,
   "metadata": {},
   "outputs": [
    {
     "data": {
      "application/vnd.jupyter.widget-view+json": {
       "model_id": "",
       "version_major": 2,
       "version_minor": 0
      },
      "text/plain": [
       "HBox(children=(FloatProgress(value=0.0, max=30.0), HTML(value='')))"
      ]
     },
     "metadata": {},
     "output_type": "display_data"
    },
    {
     "name": "stdout",
     "output_type": "stream",
     "text": [
      "\n"
     ]
    }
   ],
   "source": [
    "X_train, y_train = load_data('omniglot/images_background/')"
   ]
  },
  {
   "cell_type": "code",
   "execution_count": 6,
   "metadata": {},
   "outputs": [
    {
     "data": {
      "application/vnd.jupyter.widget-view+json": {
       "model_id": "",
       "version_major": 2,
       "version_minor": 0
      },
      "text/plain": [
       "HBox(children=(FloatProgress(value=0.0, max=20.0), HTML(value='')))"
      ]
     },
     "metadata": {},
     "output_type": "display_data"
    },
    {
     "name": "stdout",
     "output_type": "stream",
     "text": [
      "\n"
     ]
    }
   ],
   "source": [
    "X_eval, y_eval = load_data('omniglot/images_evaluation/')"
   ]
  },
  {
   "cell_type": "markdown",
   "metadata": {},
   "source": [
    "## Task Generation"
   ]
  },
  {
   "cell_type": "code",
   "execution_count": 389,
   "metadata": {},
   "outputs": [],
   "source": [
    "def extract_sample(X_data, y_data, k_shot=5, n_way=8, n_query=5, permute=True):\n",
    "    '''\n",
    "    Extract a random sample as a k-shot n-way task\n",
    "    Args:\n",
    "        X_data (ndarray): images\n",
    "        y_data (ndarray): labels\n",
    "        k_shot (int): number of images per class\n",
    "        n_way (int): number of classes in the task\n",
    "        n_query (int): number of query images\n",
    "        permute (bool): flag to shuffle the classes or not. For training this must be set to True.\n",
    "    Returns:\n",
    "        (ndarray): sampled images of shape (n_way, k_shot + n_query, 28, 28, 3)\n",
    "    '''\n",
    "    sample = []\n",
    "    \n",
    "    # Randomly select n_way classes\n",
    "    sampled_cls = np.random.choice(np.unique(y_data), n_way, replace=False)\n",
    "    \n",
    "    # Only useful for extracting samples with no query images during prediction on unlablled data\n",
    "    if not permute:\n",
    "        sampled_cls = np.unique(y_data)[:n_way]\n",
    "        \n",
    "    \n",
    "    for c in sampled_cls:\n",
    "        # Select images belonging to that class\n",
    "        X_data_c = X_data[y_data == c]\n",
    "        \n",
    "        # Sample k_shot+n_query images\n",
    "        sample_images = np.random.permutation(X_data_c)[:(k_shot+n_query)]\n",
    "        sample.append(sample_images)\n",
    "\n",
    "    sample = np.array(sample)\n",
    "    # Convert to tensor and permute the images as channels first\n",
    "    sample = torch.from_numpy(sample).float().permute(0, 1, 4, 2, 3)\n",
    "    \n",
    "    return sample"
   ]
  },
  {
   "cell_type": "code",
   "execution_count": 9,
   "metadata": {},
   "outputs": [],
   "source": [
    "def display_sample(sample):\n",
    "    '''Display the samples of the task as a grid'''\n",
    "    # Reshape to 4-dimensions from 5-dimensions\n",
    "    sample_4d = sample.view(sample.shape[0]*sample.shape[1], *sample.shape[2:])\n",
    "    \n",
    "    # Make a grid\n",
    "    out = torchvision.utils.make_grid(sample_4d, nrow=sample.shape[1])\n",
    "    \n",
    "    plt.figure(figsize = (16,7))\n",
    "    plt.imshow(out.permute(1, 2, 0))"
   ]
  },
  {
   "cell_type": "code",
   "execution_count": 11,
   "metadata": {},
   "outputs": [],
   "source": [
    "test_sample = extract_sample(X_train, y_train, k_shot=5, n_way=8, n_query=5)"
   ]
  },
  {
   "cell_type": "code",
   "execution_count": 12,
   "metadata": {},
   "outputs": [
    {
     "name": "stderr",
     "output_type": "stream",
     "text": [
      "Clipping input data to the valid range for imshow with RGB data ([0..1] for floats or [0..255] for integers).\n"
     ]
    },
    {
     "data": {
      "image/png": "[encoded data removed]",
      "text/plain": [
       "<Figure size 1152x504 with 1 Axes>"
      ]
     },
     "metadata": {
      "needs_background": "light"
     },
     "output_type": "display_data"
    }
   ],
   "source": [
    "display_sample(test_sample)"
   ]
  },
  {
   "cell_type": "markdown",
   "metadata": {},
   "source": [
    "## Model"
   ]
  },
  {
   "cell_type": "code",
   "execution_count": 13,
   "metadata": {},
   "outputs": [],
   "source": [
    "class Image2Vector(nn.Module):\n",
    "    def __init__(self):\n",
    "        super(Image2Vector, self).__init__()\n",
    "        \n",
    "        self.input_block = nn.Sequential(nn.Conv2d(3, 64, 3, padding=1),\n",
    "                                         nn.BatchNorm2d(64),\n",
    "                                         nn.ReLU(),\n",
    "                                         nn.MaxPool2d(2))\n",
    "        \n",
    "        self.conv_block = nn.Sequential(nn.Conv2d(64, 64, 3, padding=1),\n",
    "                                        nn.BatchNorm2d(64),\n",
    "                                        nn.ReLU(),\n",
    "                                        nn.MaxPool2d(2))\n",
    "    def forward(self, x):\n",
    "        \n",
    "        x = self.input_block(x)\n",
    "        x = self.conv_block(x)\n",
    "        x = self.conv_block(x)\n",
    "        x = self.conv_block(x)\n",
    "        \n",
    "        # Output of shape (batch_size, 64)\n",
    "        out = x.view(x.size(0), -1)\n",
    "        \n",
    "        return out"
   ]
  },
  {
   "cell_type": "code",
   "execution_count": 15,
   "metadata": {},
   "outputs": [],
   "source": [
    "class ProtoNet(nn.Module):\n",
    "    '''ProtoNet Model for usage with known/labelled data'''\n",
    "    def __init__(self):\n",
    "        super(ProtoNet, self).__init__()\n",
    "        \n",
    "        self.encoder = Image2Vector()\n",
    "    \n",
    "    def forward(self, sample, k_shot, n_way, n_query, device):\n",
    "        '''Forward pass\n",
    "        Args:\n",
    "            sample (torch.Tensor): sample of shape (n_way, k_shot + n_query, 28, 28, 3)\n",
    "            k_shot (int): number of images per class\n",
    "            n_way (int): number of classes\n",
    "            n_query (int): number of query images per class\n",
    "        \n",
    "        Returns:\n",
    "            tuple of:\n",
    "                loss, dict of loss value, accuracy, predictions\n",
    "        '''\n",
    "        # Get the support set and query set images\n",
    "        support = sample[:, :k_shot]\n",
    "        queries = sample[:, k_shot:]\n",
    "        \n",
    "        # Get the target indices\n",
    "        targets = torch.arange(0, n_way).view(n_way, 1, 1).expand(n_way, n_query, 1).long().to(device)\n",
    "        \n",
    "        # Concatenate support set and query set along the 0th dimension\n",
    "        x = torch.cat([support.contiguous().view(n_way * k_shot, *support.size()[2:]), \n",
    "                       queries.contiguous().view(n_way * n_query, *queries.size()[2:])], 0)\n",
    "        \n",
    "        # Get the embeddings\n",
    "        embeds = self.encoder(x)\n",
    "        z_dim = embeds.size(-1)\n",
    "        \n",
    "        # Compute Prototypes\n",
    "        protos = embeds[:n_way * k_shot].view(n_way, k_shot, z_dim).mean(1)\n",
    "        \n",
    "        # Get query embeddings\n",
    "        query_embeds = embeds[n_way * k_shot:]\n",
    "        \n",
    "        # Compute Distances\n",
    "        distances = self.euclidean(query_embeds, protos)\n",
    "        \n",
    "        # Compute Log Softmax over the inverse of euclidean distances\n",
    "        log_p = F.log_softmax(-distances, dim=1).view(n_way, n_query, -1)\n",
    "        \n",
    "        # Compute the negative of log softmax for correct classes (NLL)\n",
    "        # and calculate the mean NLL loss\n",
    "        loss = -log_p.gather(2, targets).squeeze().view(-1).mean()\n",
    "                \n",
    "        # Get predictions and calculate accuracy\n",
    "        y_hat = log_p.argmax(2)\n",
    "        accuracy = torch.eq(y_hat, targets.squeeze()).float().mean()\n",
    "        \n",
    "        return loss, {'loss': loss.item(), \n",
    "                      'preds': y_hat, \n",
    "                      'acc': accuracy.item()}\n",
    "        \n",
    "        \n",
    "    def euclidean(self, queries, protos):\n",
    "        '''\n",
    "        Calculates Euclidean Distances between queries and prototypes\n",
    "        Args:\n",
    "            queries (torch.Tensor): shape (n, d) where n is n_way*n_query\n",
    "            protos (torch.Tensor): shape (m, d) where m is n_way\n",
    "        Returns:\n",
    "            (torch.Tensor): shape (n, m) i.e. for each query the euclidean distances\n",
    "                            to each of the prototypes\n",
    "        '''\n",
    "        n = queries.size(0)\n",
    "        m = protos.size(0)\n",
    "        d = queries.size(1)\n",
    "        \n",
    "        # Reshaping the queries and prototypes for distance calculation\n",
    "        queries = queries.unsqueeze(1).expand(n, m, d)\n",
    "        protos = protos.unsqueeze(0).expand(n, m, d)\n",
    "        \n",
    "        distance = torch.pow(queries - protos, 2).sum(2) # of shape n x m\n",
    "        \n",
    "        return distance"
   ]
  },
  {
   "cell_type": "code",
   "execution_count": 16,
   "metadata": {},
   "outputs": [],
   "source": [
    "model = ProtoNet()"
   ]
  },
  {
   "cell_type": "markdown",
   "metadata": {},
   "source": [
    "## Training"
   ]
  },
  {
   "cell_type": "code",
   "execution_count": 17,
   "metadata": {},
   "outputs": [],
   "source": [
    "from tqdm.notebook import tnrange"
   ]
  },
  {
   "cell_type": "code",
   "execution_count": 23,
   "metadata": {},
   "outputs": [],
   "source": [
    "def train(model, X_data, y_data, optimizer, device='cuda', \n",
    "          k_shot=5, n_way=60, n_query=5, epochs=5, episodes=2000):\n",
    "    '''\n",
    "    Trains the ProtoNet on k-shot n-way task\n",
    "    Args:\n",
    "        model\n",
    "        X_data (torch.Tensor): images\n",
    "        y_data (torch.Tensor): labels\n",
    "        optimizer\n",
    "        k_shot (int): number of support images per class\n",
    "        n_way (int): number of classes\n",
    "        n_query (int): number of query images per class\n",
    "        epochs (int): maximum epochs\n",
    "        episodes (int): number of steps per epoch\n",
    "    '''\n",
    "    \n",
    "    model.to(device)\n",
    "    model.train()\n",
    "    # Create LR scheduler\n",
    "    scheduler = torch.optim.lr_scheduler.StepLR(optimizer, 1, gamma=0.5)\n",
    "    \n",
    "    for epoch in range(epochs):\n",
    "        print('Epoch {:d} Started...'.format(epoch+1))\n",
    "        train_losses = 0\n",
    "        train_accuracies = 0\n",
    "        \n",
    "        for episode in tnrange(episodes, desc='Epoch {:d}'.format(epoch+1)):\n",
    "            optimizer.zero_grad()\n",
    "            \n",
    "            # Extract sample\n",
    "            sample = extract_sample(X_data, y_data, k_shot, n_way, n_query).to(device)\n",
    "            \n",
    "            # Forward Pass on ProtoNet\n",
    "            loss, stats = model(sample, k_shot, n_way, n_query, device)\n",
    "            \n",
    "            # Backprop and Optimize\n",
    "            loss.backward()\n",
    "            optimizer.step()\n",
    "            \n",
    "            # Get Stats\n",
    "            train_losses += stats['loss']\n",
    "            train_accuracies += stats['acc']\n",
    "            \n",
    "            if episode % 200 == 0:\n",
    "                print('At Episode {:d} -- Loss {:.5f} - Acc: {:.3f}'.format(episode, stats['loss'], stats['acc']))\n",
    "        \n",
    "        # Print Epoch Stats\n",
    "        mean_loss = train_losses / episodes\n",
    "        mean_acc = train_accuracies / episodes\n",
    "        print('Epoch {:d} -- Loss: {:.5f} - Acc: {:.3f}\\n'.format(epoch+1, mean_loss, mean_acc))\n",
    "        \n",
    "        # Scheduler Step\n",
    "        scheduler.step()"
   ]
  },
  {
   "cell_type": "code",
   "execution_count": 24,
   "metadata": {},
   "outputs": [],
   "source": [
    "optimizer = torch.optim.SGD(model.parameters(), lr=0.001)"
   ]
  },
  {
   "cell_type": "code",
   "execution_count": 25,
   "metadata": {},
   "outputs": [
    {
     "name": "stdout",
     "output_type": "stream",
     "text": [
      "Epoch 1 Started...\n"
     ]
    },
    {
     "data": {
      "application/vnd.jupyter.widget-view+json": {
       "model_id": "",
       "version_major": 2,
       "version_minor": 0
      },
      "text/plain": [
       "HBox(children=(FloatProgress(value=0.0, description='Epoch 1', max=2000.0, style=ProgressStyle(description_wid…"
      ]
     },
     "metadata": {},
     "output_type": "display_data"
    },
    {
     "name": "stdout",
     "output_type": "stream",
     "text": [
      "At Episode 0 -- Loss 0.81435 - Acc: 0.757\n",
      "At Episode 200 -- Loss 0.27709 - Acc: 0.900\n",
      "At Episode 400 -- Loss 0.36240 - Acc: 0.883\n",
      "At Episode 600 -- Loss 0.30151 - Acc: 0.900\n",
      "At Episode 800 -- Loss 0.25899 - Acc: 0.907\n",
      "At Episode 1000 -- Loss 0.14777 - Acc: 0.953\n",
      "At Episode 1200 -- Loss 0.22026 - Acc: 0.927\n",
      "At Episode 1400 -- Loss 0.24593 - Acc: 0.920\n",
      "At Episode 1600 -- Loss 0.27749 - Acc: 0.903\n",
      "At Episode 1800 -- Loss 0.09771 - Acc: 0.960\n",
      "\n",
      "Epoch 1 -- Loss: 0.25110 - Acc: 0.920\n",
      "\n",
      "Epoch 2 Started...\n"
     ]
    },
    {
     "data": {
      "application/vnd.jupyter.widget-view+json": {
       "model_id": "",
       "version_major": 2,
       "version_minor": 0
      },
      "text/plain": [
       "HBox(children=(FloatProgress(value=0.0, description='Epoch 2', max=2000.0, style=ProgressStyle(description_wid…"
      ]
     },
     "metadata": {},
     "output_type": "display_data"
    },
    {
     "name": "stdout",
     "output_type": "stream",
     "text": [
      "At Episode 0 -- Loss 0.22824 - Acc: 0.913\n",
      "At Episode 200 -- Loss 0.10836 - Acc: 0.963\n",
      "At Episode 400 -- Loss 0.10086 - Acc: 0.963\n",
      "At Episode 600 -- Loss 0.11713 - Acc: 0.967\n",
      "At Episode 800 -- Loss 0.14631 - Acc: 0.950\n",
      "At Episode 1000 -- Loss 0.14725 - Acc: 0.933\n",
      "At Episode 1200 -- Loss 0.14028 - Acc: 0.957\n",
      "At Episode 1400 -- Loss 0.10218 - Acc: 0.957\n",
      "At Episode 1600 -- Loss 0.12171 - Acc: 0.963\n",
      "At Episode 1800 -- Loss 0.10909 - Acc: 0.957\n",
      "\n",
      "Epoch 2 -- Loss: 0.13850 - Acc: 0.955\n",
      "\n",
      "Epoch 3 Started...\n"
     ]
    },
    {
     "data": {
      "application/vnd.jupyter.widget-view+json": {
       "model_id": "",
       "version_major": 2,
       "version_minor": 0
      },
      "text/plain": [
       "HBox(children=(FloatProgress(value=0.0, description='Epoch 3', max=2000.0, style=ProgressStyle(description_wid…"
      ]
     },
     "metadata": {},
     "output_type": "display_data"
    },
    {
     "name": "stdout",
     "output_type": "stream",
     "text": [
      "At Episode 0 -- Loss 0.16987 - Acc: 0.947\n",
      "At Episode 200 -- Loss 0.07717 - Acc: 0.977\n",
      "At Episode 400 -- Loss 0.12995 - Acc: 0.967\n",
      "At Episode 600 -- Loss 0.11628 - Acc: 0.967\n",
      "At Episode 800 -- Loss 0.16526 - Acc: 0.920\n",
      "At Episode 1000 -- Loss 0.08714 - Acc: 0.977\n",
      "At Episode 1200 -- Loss 0.09452 - Acc: 0.963\n",
      "At Episode 1400 -- Loss 0.09434 - Acc: 0.967\n",
      "At Episode 1600 -- Loss 0.24165 - Acc: 0.953\n",
      "At Episode 1800 -- Loss 0.06222 - Acc: 0.980\n",
      "\n",
      "Epoch 3 -- Loss: 0.12203 - Acc: 0.961\n",
      "\n",
      "Epoch 4 Started...\n"
     ]
    },
    {
     "data": {
      "application/vnd.jupyter.widget-view+json": {
       "model_id": "",
       "version_major": 2,
       "version_minor": 0
      },
      "text/plain": [
       "HBox(children=(FloatProgress(value=0.0, description='Epoch 4', max=2000.0, style=ProgressStyle(description_wid…"
      ]
     },
     "metadata": {},
     "output_type": "display_data"
    },
    {
     "name": "stdout",
     "output_type": "stream",
     "text": [
      "At Episode 0 -- Loss 0.12365 - Acc: 0.970\n",
      "At Episode 200 -- Loss 0.11337 - Acc: 0.957\n",
      "At Episode 400 -- Loss 0.18937 - Acc: 0.947\n",
      "At Episode 600 -- Loss 0.06360 - Acc: 0.970\n",
      "At Episode 800 -- Loss 0.15847 - Acc: 0.950\n",
      "At Episode 1000 -- Loss 0.13292 - Acc: 0.960\n",
      "At Episode 1200 -- Loss 0.12028 - Acc: 0.963\n",
      "At Episode 1400 -- Loss 0.11530 - Acc: 0.980\n",
      "At Episode 1600 -- Loss 0.07362 - Acc: 0.963\n",
      "At Episode 1800 -- Loss 0.09063 - Acc: 0.973\n",
      "\n",
      "Epoch 4 -- Loss: 0.11582 - Acc: 0.962\n",
      "\n",
      "Epoch 5 Started...\n"
     ]
    },
    {
     "data": {
      "application/vnd.jupyter.widget-view+json": {
       "model_id": "",
       "version_major": 2,
       "version_minor": 0
      },
      "text/plain": [
       "HBox(children=(FloatProgress(value=0.0, description='Epoch 5', max=2000.0, style=ProgressStyle(description_wid…"
      ]
     },
     "metadata": {},
     "output_type": "display_data"
    },
    {
     "name": "stdout",
     "output_type": "stream",
     "text": [
      "At Episode 0 -- Loss 0.07678 - Acc: 0.970\n",
      "At Episode 200 -- Loss 0.05812 - Acc: 0.980\n",
      "At Episode 400 -- Loss 0.10040 - Acc: 0.950\n",
      "At Episode 600 -- Loss 0.06840 - Acc: 0.987\n",
      "At Episode 800 -- Loss 0.08990 - Acc: 0.970\n",
      "At Episode 1000 -- Loss 0.10426 - Acc: 0.960\n",
      "At Episode 1200 -- Loss 0.18790 - Acc: 0.950\n",
      "At Episode 1400 -- Loss 0.14304 - Acc: 0.970\n",
      "At Episode 1600 -- Loss 0.12854 - Acc: 0.967\n",
      "At Episode 1800 -- Loss 0.13837 - Acc: 0.957\n",
      "\n",
      "Epoch 5 -- Loss: 0.11319 - Acc: 0.963\n",
      "\n"
     ]
    }
   ],
   "source": [
    "train(model, X_train, y_train, optimizer, device='cuda', k_shot=5, n_way=60, n_query=5, epochs=5, episodes=2000)"
   ]
  },
  {
   "cell_type": "code",
   "execution_count": 26,
   "metadata": {},
   "outputs": [],
   "source": [
    "# Save\n",
    "torch.save(model.state_dict(), 'protonet.pt')"
   ]
  },
  {
   "cell_type": "markdown",
   "metadata": {},
   "source": [
    "## Evaluation"
   ]
  },
  {
   "cell_type": "code",
   "execution_count": 29,
   "metadata": {},
   "outputs": [],
   "source": [
    "def evaluate(model, X_data, y_data, device='cuda', \n",
    "             k_shot=5, n_way=5, n_query=5, episodes=1000):\n",
    "    '''\n",
    "    Evaluate the ProtoNet on k-shot n-way task on the test set\n",
    "    Args:\n",
    "        model\n",
    "        X_data (torch.Tensor): images\n",
    "        y_data (torch.Tensor): labels\n",
    "        k_shot (int): number of support images per class\n",
    "        n_way (int): number of classes\n",
    "        n_query (int): number of query images per class\n",
    "        episodes (int): number of steps/episodes\n",
    "    '''\n",
    "    \n",
    "    model.to(device)\n",
    "    model.eval()\n",
    "   \n",
    "    test_losses = 0\n",
    "    test_accuracies = 0\n",
    "\n",
    "    for episode in tnrange(episodes, desc='Evaluating'):            \n",
    "        # Extract sample\n",
    "        sample = extract_sample(X_data, y_data, k_shot, n_way, n_query).to(device)\n",
    "\n",
    "        # Forward Pass on ProtoNet\n",
    "        loss, stats = model(sample, k_shot, n_way, n_query, device)\n",
    "\n",
    "        # Get Stats\n",
    "        test_losses += stats['loss']\n",
    "        test_accuracies += stats['acc']\n",
    "\n",
    "        if episode % 200 == 0:\n",
    "            print('At Episode {:d} -- Loss {:.5f} - Acc: {:.3f}'.format(episode, stats['loss'], stats['acc']))\n",
    "\n",
    "    # Print Epoch Stats\n",
    "    mean_loss = test_losses / episodes\n",
    "    mean_acc = test_accuracies / episodes\n",
    "    print('Evaluation Results -- Loss: {:.5f} - Acc: {:.3f}\\n'.format(mean_loss, mean_acc))"
   ]
  },
  {
   "cell_type": "code",
   "execution_count": 35,
   "metadata": {},
   "outputs": [
    {
     "data": {
      "application/vnd.jupyter.widget-view+json": {
       "model_id": "",
       "version_major": 2,
       "version_minor": 0
      },
      "text/plain": [
       "HBox(children=(FloatProgress(value=0.0, description='Evaluating', max=1000.0, style=ProgressStyle(description_…"
      ]
     },
     "metadata": {},
     "output_type": "display_data"
    },
    {
     "name": "stdout",
     "output_type": "stream",
     "text": [
      "At Episode 0 -- Loss 0.00000 - Acc: 1.000\n",
      "At Episode 200 -- Loss 0.13225 - Acc: 0.960\n",
      "At Episode 400 -- Loss 0.09307 - Acc: 0.960\n",
      "At Episode 600 -- Loss 0.06588 - Acc: 0.960\n",
      "At Episode 800 -- Loss 0.00143 - Acc: 1.000\n",
      "\n",
      "Evaluation Results -- Loss: 0.02844 - Acc: 0.991\n",
      "\n"
     ]
    }
   ],
   "source": [
    "evaluate(model, X_eval, y_eval, device='cuda', k_shot=5, n_way=5, n_query=5, episodes=1000)"
   ]
  },
  {
   "cell_type": "markdown",
   "metadata": {},
   "source": [
    "### Test on single sample"
   ]
  },
  {
   "cell_type": "code",
   "execution_count": 36,
   "metadata": {},
   "outputs": [],
   "source": [
    "device = 'cuda'\n",
    "k_shot = 5\n",
    "n_way = 5\n",
    "n_query = 5"
   ]
  },
  {
   "cell_type": "code",
   "execution_count": 38,
   "metadata": {},
   "outputs": [
    {
     "name": "stderr",
     "output_type": "stream",
     "text": [
      "Clipping input data to the valid range for imshow with RGB data ([0..1] for floats or [0..255] for integers).\n"
     ]
    },
    {
     "data": {
      "image/png": "[encoded data removed]",
      "text/plain": [
       "<Figure size 1152x504 with 1 Axes>"
      ]
     },
     "metadata": {
      "needs_background": "light"
     },
     "output_type": "display_data"
    }
   ],
   "source": [
    "# Sample a set from test set\n",
    "my_sample = extract_sample(X_eval, y_eval, k_shot, n_way, n_query).to(device)\n",
    "display_sample(my_sample.cpu())"
   ]
  },
  {
   "cell_type": "code",
   "execution_count": 40,
   "metadata": {},
   "outputs": [
    {
     "data": {
      "text/plain": [
       "{'loss': 0.014965514652431011,\n",
       " 'preds': tensor([[0, 0, 0, 0, 0],\n",
       "         [1, 1, 1, 1, 1],\n",
       "         [2, 2, 2, 2, 2],\n",
       "         [3, 3, 3, 3, 3],\n",
       "         [4, 4, 4, 4, 4]], device='cuda:0'),\n",
       " 'acc': 1.0}"
      ]
     },
     "execution_count": 40,
     "metadata": {},
     "output_type": "execute_result"
    }
   ],
   "source": [
    "# Predict\n",
    "loss, stats = model(my_sample, k_shot, n_way, n_query, device)\n",
    "stats"
   ]
  },
  {
   "cell_type": "markdown",
   "metadata": {},
   "source": [
    "## Prediction on unlabelled Query Images\n",
    "Making predictions on unlabelled query images given a new support set."
   ]
  },
  {
   "cell_type": "code",
   "execution_count": 52,
   "metadata": {},
   "outputs": [],
   "source": [
    "from collections import Counter"
   ]
  },
  {
   "cell_type": "code",
   "execution_count": 69,
   "metadata": {},
   "outputs": [],
   "source": [
    "def read_support_set(support_dir):\n",
    "    '''\n",
    "    Read a Support Set from a directory\n",
    "    Args:\n",
    "        support_dir (str): folder containing the support set with each sub-folder being a class.\n",
    "                           Each class should have equal number of images i.e. consistent k_shot\n",
    "    Returns:\n",
    "        tuple of:\n",
    "            (ndarray): X images\n",
    "            (ndarray): y labels\n",
    "            (dict) of: k_shot (int) and n_way (int)\n",
    "            \n",
    "    '''\n",
    "    labels = os.listdir(support_dir)\n",
    "    n_way = len(labels)\n",
    "    \n",
    "    X_support = []\n",
    "    y_support = []\n",
    "    \n",
    "    for label in labels:\n",
    "        label_path = os.path.join(support_dir, label)\n",
    "        images = os.listdir(label_path)\n",
    "        \n",
    "        for img in images:\n",
    "            image = cv2.imread(os.path.join(label_path, img))\n",
    "            image = cv2.resize(image, (28, 28)) / 255\n",
    "            \n",
    "            X_support.append(image)\n",
    "            y_support.append(label)\n",
    "            \n",
    "    k_shot = len(y_support) // n_way\n",
    "            \n",
    "    assert len(set(dict(Counter(y_support)).values())) == 1, 'Each Class should have equal number of images'\n",
    "            \n",
    "    return np.array(X_support), np.array(y_support), {'k_shot': k_shot, 'n_way': n_way}"
   ]
  },
  {
   "cell_type": "code",
   "execution_count": 70,
   "metadata": {},
   "outputs": [],
   "source": [
    "def read_query_set(query_dir):\n",
    "    '''\n",
    "    Read a Query Set from a directory\n",
    "    Args:\n",
    "        query_dir (str): folder containing the unlabelled query images\n",
    "    '''\n",
    "    images = os.listdir(query_dir)\n",
    "    \n",
    "    X_query = []\n",
    "    \n",
    "    for img in images:\n",
    "        image = cv2.imread(os.path.join(query_dir, img))\n",
    "        image = cv2.resize(image, (28, 28)) / 255\n",
    "\n",
    "        X_query.append(image)\n",
    "            \n",
    "    return np.array(X_query)"
   ]
  },
  {
   "cell_type": "code",
   "execution_count": 397,
   "metadata": {},
   "outputs": [],
   "source": [
    "def predict(model, X_support, y_support, X_query, k_shot, n_way, n_query, device='cuda'):\n",
    "    '''\n",
    "    Make Predictions on new sets with unlabelled query images\n",
    "    Args:\n",
    "        X_support (ndarray): support set images\n",
    "        y_support (ndarray): support set labels\n",
    "        X_query (ndarray): unlabelled query images\n",
    "        k_shot (int): number of images per class\n",
    "        n_way (int): number of classes\n",
    "        n_query (int): number of query images\n",
    "    Returns:\n",
    "        (tuple) of:\n",
    "            (tensor): predictions\n",
    "            (tensor): support samples\n",
    "            (tensor): queries samples\n",
    "    '''\n",
    "    model.to(device)\n",
    "    model.eval()\n",
    "    \n",
    "    # Convert support set images to sample format (5D)\n",
    "    support = extract_sample(X_support, y_support, k_shot, n_way, n_query=0, permute=False).to(device)\n",
    "    \n",
    "    # Convert queries to tensor (4D)\n",
    "    queries = torch.from_numpy(X_query).float().permute(0, 3, 1, 2).to(device)\n",
    "    \n",
    "    # Concatenate support set and query set along the 0th dimension\n",
    "    x = torch.cat([support.contiguous().view(n_way * k_shot, *support.size()[2:]), \n",
    "                   queries.contiguous()], 0)\n",
    "        \n",
    "    # Compute embeddings\n",
    "    embeds = model.encoder(x)\n",
    "    z_dim = embeds.size(-1)\n",
    "    \n",
    "    # Compute Prototypes\n",
    "    protos = embeds[:n_way * k_shot].view(n_way, k_shot, z_dim).mean(1)\n",
    "        \n",
    "    # Get query embeddings\n",
    "    query_embeds = embeds[n_way * k_shot:]\n",
    "    \n",
    "    # Compute Distances\n",
    "    distances = model.euclidean(query_embeds, protos)\n",
    "    \n",
    "    # Compute Softmax over the inverse of euclidean distances\n",
    "    log_p = F.softmax(-distances, dim=1)\n",
    "    \n",
    "    # Compute Predictions\n",
    "    y_hat = log_p.argmax(1)\n",
    "    \n",
    "    return y_hat, support, queries"
   ]
  },
  {
   "cell_type": "code",
   "execution_count": 402,
   "metadata": {},
   "outputs": [],
   "source": [
    "X_support, y_support, task = read_support_set('prediction/support-2shot/')"
   ]
  },
  {
   "cell_type": "code",
   "execution_count": 403,
   "metadata": {},
   "outputs": [],
   "source": [
    "X_query = read_query_set('prediction/query-2shot/')"
   ]
  },
  {
   "cell_type": "code",
   "execution_count": 407,
   "metadata": {},
   "outputs": [],
   "source": [
    "# Make predictions\n",
    "preds, support, queries = predict(model, X_support, y_support, X_query,\n",
    "                                  k_shot=task['k_shot'], n_way=task['n_way'], n_query=len(X_query), \n",
    "                                  device='cuda')"
   ]
  },
  {
   "cell_type": "code",
   "execution_count": 408,
   "metadata": {},
   "outputs": [
    {
     "name": "stdout",
     "output_type": "stream",
     "text": [
      "tensor([0, 1, 2, 3, 4, 5, 6, 7, 6, 9], device='cuda:0')\n"
     ]
    },
    {
     "data": {
      "image/png": "[encoded data removed]",
      "text/plain": [
       "<Figure size 504x504 with 1 Axes>"
      ]
     },
     "metadata": {
      "needs_background": "light"
     },
     "output_type": "display_data"
    },
    {
     "data": {
      "image/png": "[encoded data removed]",
      "text/plain": [
       "<Figure size 1152x504 with 1 Axes>"
      ]
     },
     "metadata": {
      "needs_background": "light"
     },
     "output_type": "display_data"
    }
   ],
   "source": [
    "print(preds)\n",
    "# Display Query images\n",
    "query_out = torchvision.utils.make_grid(queries.cpu(), nrow=len(queries))\n",
    "plt.figure(figsize = (7,7))\n",
    "plt.imshow(query_out.permute(1, 2, 0))\n",
    "# Display Support images\n",
    "display_sample(support.cpu())"
   ]
  },
  {
   "cell_type": "code",
   "execution_count": null,
   "metadata": {},
   "outputs": [],
   "source": []
  }
 ],
 "metadata": {
  "kernelspec": {
   "display_name": "Python 3",
   "language": "python",
   "name": "python3"
  },
  "language_info": {
   "codemirror_mode": {
    "name": "ipython",
    "version": 3
   },
   "file_extension": ".py",
   "mimetype": "text/x-python",
   "name": "python",
   "nbconvert_exporter": "python",
   "pygments_lexer": "ipython3",
   "version": "3.6.10"
  },
  "widgets": {
   "application/vnd.jupyter.widget-state+json": {
    "state": {
     "00f831e0b9d2444db2037c2deeb48e9b": {
      "model_module": "@jupyter-widgets/controls",
      "model_module_version": "1.5.0",
      "model_name": "HTMLModel",
      "state": {
       "layout": "IPY_MODEL_1c16eff5d5a343ceab76ae8980b5d4f6",
       "style": "IPY_MODEL_07233f5796d348f9be2c9bae4729abde",
       "value": " 2000/2000 [28:47&lt;00:00,  1.16it/s]"
      }
     },
     "02acf34ed5f447539e14c9a6ee4f5bf2": {
      "model_module": "@jupyter-widgets/controls",
      "model_module_version": "1.5.0",
      "model_name": "FloatProgressModel",
      "state": {
       "bar_style": "danger",
       "description": "Epoch 1:   3%",
       "layout": "IPY_MODEL_a19bb5fcabe74486b19f80a7fde0c7f8",
       "max": 2000,
       "style": "IPY_MODEL_eb636f618f7843b2bef714a2406cbdae",
       "value": 65
      }
     },
     "0317abea67f244b69a4f3077d4914b08": {
      "model_module": "@jupyter-widgets/controls",
      "model_module_version": "1.5.0",
      "model_name": "ProgressStyleModel",
      "state": {
       "description_width": "initial"
      }
     },
     "04e7a770338842698bbfc9779a3ed3a4": {
      "model_module": "@jupyter-widgets/controls",
      "model_module_version": "1.5.0",
      "model_name": "FloatProgressModel",
      "state": {
       "bar_style": "success",
       "description": "100%",
       "layout": "IPY_MODEL_e2aa1c0be3a74318ae6c94746da9e614",
       "max": 30,
       "style": "IPY_MODEL_e4d635926fa94c2f846c12096fab5507",
       "value": 30
      }
     },
     "067d8737d4bb40bb90833c456f1da562": {
      "model_module": "@jupyter-widgets/controls",
      "model_module_version": "1.5.0",
      "model_name": "HTMLModel",
      "state": {
       "layout": "IPY_MODEL_6e979630810e48e881b73ea27888fa4d",
       "style": "IPY_MODEL_c7e0bf0eb5ca42919445eaae2cb44588",
       "value": " 1000/1000 [00:52&lt;00:00, 19.10it/s]"
      }
     },
     "07233f5796d348f9be2c9bae4729abde": {
      "model_module": "@jupyter-widgets/controls",
      "model_module_version": "1.5.0",
      "model_name": "DescriptionStyleModel",
      "state": {
       "description_width": ""
      }
     },
     "07803faa8a7d47748a54e0e91ce775b3": {
      "model_module": "@jupyter-widgets/controls",
      "model_module_version": "1.5.0",
      "model_name": "ProgressStyleModel",
      "state": {
       "description_width": "initial"
      }
     },
     "08d93dc8c0654d5bb2fb7b335443c59f": {
      "model_module": "@jupyter-widgets/base",
      "model_module_version": "1.2.0",
      "model_name": "LayoutModel",
      "state": {}
     },
     "13913ded4afe48688a8d0212d31988e8": {
      "model_module": "@jupyter-widgets/controls",
      "model_module_version": "1.5.0",
      "model_name": "HBoxModel",
      "state": {
       "children": [
        "IPY_MODEL_63cbcaa9fe76437c8e0e4d70457a3807",
        "IPY_MODEL_00f831e0b9d2444db2037c2deeb48e9b"
       ],
       "layout": "IPY_MODEL_15a1c1eaa229485daaf4e558040f032f"
      }
     },
     "1542503af2e24f56a2cd8ab38c7bcfa0": {
      "model_module": "@jupyter-widgets/base",
      "model_module_version": "1.2.0",
      "model_name": "LayoutModel",
      "state": {}
     },
     "15a1c1eaa229485daaf4e558040f032f": {
      "model_module": "@jupyter-widgets/base",
      "model_module_version": "1.2.0",
      "model_name": "LayoutModel",
      "state": {}
     },
     "162cf160930e48049f9232a08de09653": {
      "model_module": "@jupyter-widgets/base",
      "model_module_version": "1.2.0",
      "model_name": "LayoutModel",
      "state": {}
     },
     "19151e6eb7bd42b595586c483df0946d": {
      "model_module": "@jupyter-widgets/controls",
      "model_module_version": "1.5.0",
      "model_name": "ProgressStyleModel",
      "state": {
       "description_width": "initial"
      }
     },
     "19c4339c5460450287411b5e78d8e8f7": {
      "model_module": "@jupyter-widgets/controls",
      "model_module_version": "1.5.0",
      "model_name": "ProgressStyleModel",
      "state": {
       "description_width": "initial"
      }
     },
     "1c16eff5d5a343ceab76ae8980b5d4f6": {
      "model_module": "@jupyter-widgets/base",
      "model_module_version": "1.2.0",
      "model_name": "LayoutModel",
      "state": {}
     },
     "1e1d3f3dff25480a9ac5645307677fc1": {
      "model_module": "@jupyter-widgets/controls",
      "model_module_version": "1.5.0",
      "model_name": "ProgressStyleModel",
      "state": {
       "description_width": "initial"
      }
     },
     "1f885e7671f84ab5a53cd90f5d770e9a": {
      "model_module": "@jupyter-widgets/controls",
      "model_module_version": "1.5.0",
      "model_name": "HTMLModel",
      "state": {
       "layout": "IPY_MODEL_d7460304b35d46fb90032828f904f60c",
       "style": "IPY_MODEL_9cb7c6a3307d4fc3a49e425a647b1162",
       "value": " 20/20 [01:14&lt;00:00,  3.70s/it]"
      }
     },
     "24a0d74398d045fabcffa0eb482243ed": {
      "model_module": "@jupyter-widgets/base",
      "model_module_version": "1.2.0",
      "model_name": "LayoutModel",
      "state": {}
     },
     "259a479364d94edba399f4fc118eb9e1": {
      "model_module": "@jupyter-widgets/base",
      "model_module_version": "1.2.0",
      "model_name": "LayoutModel",
      "state": {}
     },
     "27d2ed9e3a624bd6ad2e2759b4acdcfe": {
      "model_module": "@jupyter-widgets/controls",
      "model_module_version": "1.5.0",
      "model_name": "HBoxModel",
      "state": {
       "children": [
        "IPY_MODEL_ec93fbdf2f6a428389231ad7bcc76333",
        "IPY_MODEL_983216e7143e4514b1b53c6a6f27db80"
       ],
       "layout": "IPY_MODEL_a7329bd361c84d35ae7a356992e644a4"
      }
     },
     "2a242e811feb494f80e364a9622b2225": {
      "model_module": "@jupyter-widgets/base",
      "model_module_version": "1.2.0",
      "model_name": "LayoutModel",
      "state": {}
     },
     "2b9b1d9767744ec6ae34c6816abff663": {
      "model_module": "@jupyter-widgets/controls",
      "model_module_version": "1.5.0",
      "model_name": "HTMLModel",
      "state": {
       "layout": "IPY_MODEL_1542503af2e24f56a2cd8ab38c7bcfa0",
       "style": "IPY_MODEL_2c503ca7b4e34c3faa48be9b6ea4566d",
       "value": " 2000/2000 [27:38&lt;00:00,  1.21it/s]"
      }
     },
     "2bedb7eb234e4383b1c98bdf4707e35a": {
      "model_module": "@jupyter-widgets/controls",
      "model_module_version": "1.5.0",
      "model_name": "FloatProgressModel",
      "state": {
       "bar_style": "success",
       "description": "Evaluating: 100%",
       "layout": "IPY_MODEL_c3768aa279de4768b16043201347b6a0",
       "max": 1000,
       "style": "IPY_MODEL_19151e6eb7bd42b595586c483df0946d",
       "value": 1000
      }
     },
     "2c00a942d44c44909da2046c37d4816b": {
      "model_module": "@jupyter-widgets/controls",
      "model_module_version": "1.5.0",
      "model_name": "HTMLModel",
      "state": {
       "layout": "IPY_MODEL_cef4abb731704915bbeb4cad9e60561c",
       "style": "IPY_MODEL_69c94f5952d845159cd3bf7cdc90eb29",
       "value": " 1000/1000 [05:03&lt;00:00,  3.29it/s]"
      }
     },
     "2c503ca7b4e34c3faa48be9b6ea4566d": {
      "model_module": "@jupyter-widgets/controls",
      "model_module_version": "1.5.0",
      "model_name": "DescriptionStyleModel",
      "state": {
       "description_width": ""
      }
     },
     "2cbf2feaf8b342868c49bd085a11bfc7": {
      "model_module": "@jupyter-widgets/controls",
      "model_module_version": "1.5.0",
      "model_name": "DescriptionStyleModel",
      "state": {
       "description_width": ""
      }
     },
     "2f5b3f49c8aa4ebcae702ef0f76b336b": {
      "model_module": "@jupyter-widgets/base",
      "model_module_version": "1.2.0",
      "model_name": "LayoutModel",
      "state": {}
     },
     "307eab07f47d49c5845653ba0dd26e94": {
      "model_module": "@jupyter-widgets/base",
      "model_module_version": "1.2.0",
      "model_name": "LayoutModel",
      "state": {}
     },
     "326c4cb6a5904d94b994f8db0534b708": {
      "model_module": "@jupyter-widgets/controls",
      "model_module_version": "1.5.0",
      "model_name": "FloatProgressModel",
      "state": {
       "bar_style": "success",
       "description": "Evaluating: 100%",
       "layout": "IPY_MODEL_24a0d74398d045fabcffa0eb482243ed",
       "max": 1000,
       "style": "IPY_MODEL_e2d285bab66b493985a7c318efeac7a1",
       "value": 1000
      }
     },
     "3408fe9e185f4a27acfa0a89a7a65516": {
      "model_module": "@jupyter-widgets/base",
      "model_module_version": "1.2.0",
      "model_name": "LayoutModel",
      "state": {}
     },
     "3431e6f848514a85937cad9d63c3801e": {
      "model_module": "@jupyter-widgets/controls",
      "model_module_version": "1.5.0",
      "model_name": "HBoxModel",
      "state": {
       "children": [
        "IPY_MODEL_e775b1861f404e4d9ec0b1c618c482eb",
        "IPY_MODEL_2c00a942d44c44909da2046c37d4816b"
       ],
       "layout": "IPY_MODEL_259a479364d94edba399f4fc118eb9e1"
      }
     },
     "37e41332c735449f9a74de276cad4dbf": {
      "model_module": "@jupyter-widgets/controls",
      "model_module_version": "1.5.0",
      "model_name": "HTMLModel",
      "state": {
       "layout": "IPY_MODEL_7dea7e6de2ca46aca78a3c9dae502482",
       "style": "IPY_MODEL_a5fdb1145dcb46f6b4c55dd4cf8f9dc4",
       "value": " 2000/2000 [19:15&lt;00:00,  1.73it/s]"
      }
     },
     "38eeea3cfc0f4b97a8adce1411b70b5d": {
      "model_module": "@jupyter-widgets/controls",
      "model_module_version": "1.5.0",
      "model_name": "HTMLModel",
      "state": {
       "layout": "IPY_MODEL_c6c091c6ae3a4e9e9da5e1d3dc38e72a",
       "style": "IPY_MODEL_2cbf2feaf8b342868c49bd085a11bfc7",
       "value": " 2000/2000 [50:50&lt;00:00,  1.53s/it]"
      }
     },
     "3bfe0eb60bfc4a65975cdf4cff0cb2c5": {
      "model_module": "@jupyter-widgets/base",
      "model_module_version": "1.2.0",
      "model_name": "LayoutModel",
      "state": {}
     },
     "3eae71ee6a2946d9a53842a0b64311cd": {
      "model_module": "@jupyter-widgets/controls",
      "model_module_version": "1.5.0",
      "model_name": "HBoxModel",
      "state": {
       "children": [
        "IPY_MODEL_ad2d28b9f966450d96a08e7f18511498",
        "IPY_MODEL_1f885e7671f84ab5a53cd90f5d770e9a"
       ],
       "layout": "IPY_MODEL_7ca52b6c4fba4134ab4b65e616965c4d"
      }
     },
     "3fdd0b2aeff54362acb01e10ef2ee23d": {
      "model_module": "@jupyter-widgets/base",
      "model_module_version": "1.2.0",
      "model_name": "LayoutModel",
      "state": {}
     },
     "433f9188cad941ccb2c46f3c85acd4ac": {
      "model_module": "@jupyter-widgets/base",
      "model_module_version": "1.2.0",
      "model_name": "LayoutModel",
      "state": {}
     },
     "44fe5e9a768d430baa007ffc9d023cc7": {
      "model_module": "@jupyter-widgets/base",
      "model_module_version": "1.2.0",
      "model_name": "LayoutModel",
      "state": {}
     },
     "48d76e9a18e94c6faf2548d1e0d50783": {
      "model_module": "@jupyter-widgets/controls",
      "model_module_version": "1.5.0",
      "model_name": "DescriptionStyleModel",
      "state": {
       "description_width": ""
      }
     },
     "499f816a85bc4419867f0a51a4282653": {
      "model_module": "@jupyter-widgets/controls",
      "model_module_version": "1.5.0",
      "model_name": "HBoxModel",
      "state": {
       "children": [
        "IPY_MODEL_326c4cb6a5904d94b994f8db0534b708",
        "IPY_MODEL_067d8737d4bb40bb90833c456f1da562"
       ],
       "layout": "IPY_MODEL_ed56e91ebafa441683027abb975a9add"
      }
     },
     "4c8c2ca7822044fbb31397c1f7d2dba7": {
      "model_module": "@jupyter-widgets/controls",
      "model_module_version": "1.5.0",
      "model_name": "HBoxModel",
      "state": {
       "children": [
        "IPY_MODEL_fc9fd679400d417ab71c214b83660345",
        "IPY_MODEL_9f5686f0b6c049e3b4202b423681f269"
       ],
       "layout": "IPY_MODEL_2a242e811feb494f80e364a9622b2225"
      }
     },
     "4d5165bb67084c77ad127a7a3b93a7bf": {
      "model_module": "@jupyter-widgets/base",
      "model_module_version": "1.2.0",
      "model_name": "LayoutModel",
      "state": {}
     },
     "4daf58dbad5548b293be7413a4ee1752": {
      "model_module": "@jupyter-widgets/base",
      "model_module_version": "1.2.0",
      "model_name": "LayoutModel",
      "state": {}
     },
     "51d6cf5085584baba894653f3ad72d66": {
      "model_module": "@jupyter-widgets/base",
      "model_module_version": "1.2.0",
      "model_name": "LayoutModel",
      "state": {}
     },
     "58525dad35704825ae8e4828d8a8b2cc": {
      "model_module": "@jupyter-widgets/controls",
      "model_module_version": "1.5.0",
      "model_name": "FloatProgressModel",
      "state": {
       "bar_style": "success",
       "description": "Epoch 2: 100%",
       "layout": "IPY_MODEL_a9c5facb61b648c290f10e7a55ac3b44",
       "max": 2000,
       "style": "IPY_MODEL_0317abea67f244b69a4f3077d4914b08",
       "value": 2000
      }
     },
     "5abad680faaf49b09452529f381bac36": {
      "model_module": "@jupyter-widgets/controls",
      "model_module_version": "1.5.0",
      "model_name": "HBoxModel",
      "state": {
       "children": [
        "IPY_MODEL_2bedb7eb234e4383b1c98bdf4707e35a",
        "IPY_MODEL_b9dfa84c230f4c0d8b351d36ca4e6232"
       ],
       "layout": "IPY_MODEL_4daf58dbad5548b293be7413a4ee1752"
      }
     },
     "5b11f28a6cd3403f8025def89f4a5f13": {
      "model_module": "@jupyter-widgets/controls",
      "model_module_version": "1.5.0",
      "model_name": "DescriptionStyleModel",
      "state": {
       "description_width": ""
      }
     },
     "5b3265f26fef41fdbde9085d6afc7ffc": {
      "model_module": "@jupyter-widgets/base",
      "model_module_version": "1.2.0",
      "model_name": "LayoutModel",
      "state": {}
     },
     "63cbcaa9fe76437c8e0e4d70457a3807": {
      "model_module": "@jupyter-widgets/controls",
      "model_module_version": "1.5.0",
      "model_name": "FloatProgressModel",
      "state": {
       "bar_style": "success",
       "description": "Epoch 3: 100%",
       "layout": "IPY_MODEL_3fdd0b2aeff54362acb01e10ef2ee23d",
       "max": 2000,
       "style": "IPY_MODEL_07803faa8a7d47748a54e0e91ce775b3",
       "value": 2000
      }
     },
     "649068e792c24585ad76b36f18b7ddd3": {
      "model_module": "@jupyter-widgets/controls",
      "model_module_version": "1.5.0",
      "model_name": "DescriptionStyleModel",
      "state": {
       "description_width": ""
      }
     },
     "64af68ee9c684ee4a6d4256efd93fc59": {
      "model_module": "@jupyter-widgets/base",
      "model_module_version": "1.2.0",
      "model_name": "LayoutModel",
      "state": {}
     },
     "661a2a06ee874fc5805db5da7c151d4d": {
      "model_module": "@jupyter-widgets/base",
      "model_module_version": "1.2.0",
      "model_name": "LayoutModel",
      "state": {}
     },
     "69c94f5952d845159cd3bf7cdc90eb29": {
      "model_module": "@jupyter-widgets/controls",
      "model_module_version": "1.5.0",
      "model_name": "DescriptionStyleModel",
      "state": {
       "description_width": ""
      }
     },
     "6b9cc1a2b139453d9fd8dd5a067f79d9": {
      "model_module": "@jupyter-widgets/base",
      "model_module_version": "1.2.0",
      "model_name": "LayoutModel",
      "state": {}
     },
     "6da534245e454d3bb37ed0aa42b11c7a": {
      "model_module": "@jupyter-widgets/base",
      "model_module_version": "1.2.0",
      "model_name": "LayoutModel",
      "state": {}
     },
     "6e979630810e48e881b73ea27888fa4d": {
      "model_module": "@jupyter-widgets/base",
      "model_module_version": "1.2.0",
      "model_name": "LayoutModel",
      "state": {}
     },
     "6ed542620eae43ceb399a46aa2ee7b55": {
      "model_module": "@jupyter-widgets/controls",
      "model_module_version": "1.5.0",
      "model_name": "DescriptionStyleModel",
      "state": {
       "description_width": ""
      }
     },
     "6f8442752bb142b79775c6c0f6d86386": {
      "model_module": "@jupyter-widgets/controls",
      "model_module_version": "1.5.0",
      "model_name": "HTMLModel",
      "state": {
       "layout": "IPY_MODEL_162cf160930e48049f9232a08de09653",
       "style": "IPY_MODEL_48d76e9a18e94c6faf2548d1e0d50783",
       "value": " 1000/1000 [05:15&lt;00:00,  3.17it/s]"
      }
     },
     "7067344c2ba049a791a7f826a16bb990": {
      "model_module": "@jupyter-widgets/controls",
      "model_module_version": "1.5.0",
      "model_name": "ProgressStyleModel",
      "state": {
       "description_width": "initial"
      }
     },
     "70ccd92b43f445aa8e8211814f18c4bb": {
      "model_module": "@jupyter-widgets/controls",
      "model_module_version": "1.5.0",
      "model_name": "FloatProgressModel",
      "state": {
       "bar_style": "success",
       "description": "Evaluating: 100%",
       "layout": "IPY_MODEL_08d93dc8c0654d5bb2fb7b335443c59f",
       "max": 1000,
       "style": "IPY_MODEL_856da38b40c64c7c9750f794cfba1383",
       "value": 1000
      }
     },
     "7346e8cfdfac4eae88334513b146244b": {
      "model_module": "@jupyter-widgets/base",
      "model_module_version": "1.2.0",
      "model_name": "LayoutModel",
      "state": {}
     },
     "760c9219afde4800a1063a4eb548eed7": {
      "model_module": "@jupyter-widgets/controls",
      "model_module_version": "1.5.0",
      "model_name": "HBoxModel",
      "state": {
       "children": [
        "IPY_MODEL_58525dad35704825ae8e4828d8a8b2cc",
        "IPY_MODEL_cce03b726ed342dca5f55de01f51e57f"
       ],
       "layout": "IPY_MODEL_e03835b3461543c5a7ef5a884ae21b6e"
      }
     },
     "7ca52b6c4fba4134ab4b65e616965c4d": {
      "model_module": "@jupyter-widgets/base",
      "model_module_version": "1.2.0",
      "model_name": "LayoutModel",
      "state": {}
     },
     "7dea7e6de2ca46aca78a3c9dae502482": {
      "model_module": "@jupyter-widgets/base",
      "model_module_version": "1.2.0",
      "model_name": "LayoutModel",
      "state": {}
     },
     "7e1896b8530447989efd2b913e611fb8": {
      "model_module": "@jupyter-widgets/controls",
      "model_module_version": "1.5.0",
      "model_name": "ProgressStyleModel",
      "state": {
       "description_width": "initial"
      }
     },
     "8032faee06d742e3aaa5f8cac3a4ba9a": {
      "model_module": "@jupyter-widgets/controls",
      "model_module_version": "1.5.0",
      "model_name": "HBoxModel",
      "state": {
       "children": [
        "IPY_MODEL_70ccd92b43f445aa8e8211814f18c4bb",
        "IPY_MODEL_6f8442752bb142b79775c6c0f6d86386"
       ],
       "layout": "IPY_MODEL_85e415fa94774650988fbb990cddaeb8"
      }
     },
     "81a4d2e21bb043b39c2a1784d9ef7324": {
      "model_module": "@jupyter-widgets/controls",
      "model_module_version": "1.5.0",
      "model_name": "HBoxModel",
      "state": {
       "children": [
        "IPY_MODEL_04e7a770338842698bbfc9779a3ed3a4",
        "IPY_MODEL_8c3a96c1642a4dd3bab23cf5dc2ab316"
       ],
       "layout": "IPY_MODEL_f8d4be660c9d47edb4f4603b134f58e4"
      }
     },
     "856da38b40c64c7c9750f794cfba1383": {
      "model_module": "@jupyter-widgets/controls",
      "model_module_version": "1.5.0",
      "model_name": "ProgressStyleModel",
      "state": {
       "description_width": "initial"
      }
     },
     "85e415fa94774650988fbb990cddaeb8": {
      "model_module": "@jupyter-widgets/base",
      "model_module_version": "1.2.0",
      "model_name": "LayoutModel",
      "state": {}
     },
     "8c3a96c1642a4dd3bab23cf5dc2ab316": {
      "model_module": "@jupyter-widgets/controls",
      "model_module_version": "1.5.0",
      "model_name": "HTMLModel",
      "state": {
       "layout": "IPY_MODEL_3408fe9e185f4a27acfa0a89a7a65516",
       "style": "IPY_MODEL_a88ddba880774f008f826e496935ba85",
       "value": " 30/30 [05:12&lt;00:00, 10.42s/it]"
      }
     },
     "97f2d6d186bd4052ae09f76d91c6a3da": {
      "model_module": "@jupyter-widgets/controls",
      "model_module_version": "1.5.0",
      "model_name": "HBoxModel",
      "state": {
       "children": [
        "IPY_MODEL_be7f9d331e4d4813975f71738688e5ed",
        "IPY_MODEL_2b9b1d9767744ec6ae34c6816abff663"
       ],
       "layout": "IPY_MODEL_2f5b3f49c8aa4ebcae702ef0f76b336b"
      }
     },
     "983216e7143e4514b1b53c6a6f27db80": {
      "model_module": "@jupyter-widgets/controls",
      "model_module_version": "1.5.0",
      "model_name": "HTMLModel",
      "state": {
       "layout": "IPY_MODEL_661a2a06ee874fc5805db5da7c151d4d",
       "style": "IPY_MODEL_6ed542620eae43ceb399a46aa2ee7b55",
       "value": " 1000/1000 [06:19&lt;00:00,  2.64it/s]"
      }
     },
     "9bd88f0d61ab42d79eff1938b54acf99": {
      "model_module": "@jupyter-widgets/controls",
      "model_module_version": "1.5.0",
      "model_name": "ProgressStyleModel",
      "state": {
       "description_width": "initial"
      }
     },
     "9cb7c6a3307d4fc3a49e425a647b1162": {
      "model_module": "@jupyter-widgets/controls",
      "model_module_version": "1.5.0",
      "model_name": "DescriptionStyleModel",
      "state": {
       "description_width": ""
      }
     },
     "9f5686f0b6c049e3b4202b423681f269": {
      "model_module": "@jupyter-widgets/controls",
      "model_module_version": "1.5.0",
      "model_name": "HTMLModel",
      "state": {
       "layout": "IPY_MODEL_7346e8cfdfac4eae88334513b146244b",
       "style": "IPY_MODEL_5b11f28a6cd3403f8025def89f4a5f13",
       "value": " 1000/1000 [03:00&lt;00:00,  5.54it/s]"
      }
     },
     "a19bb5fcabe74486b19f80a7fde0c7f8": {
      "model_module": "@jupyter-widgets/base",
      "model_module_version": "1.2.0",
      "model_name": "LayoutModel",
      "state": {}
     },
     "a5fdb1145dcb46f6b4c55dd4cf8f9dc4": {
      "model_module": "@jupyter-widgets/controls",
      "model_module_version": "1.5.0",
      "model_name": "DescriptionStyleModel",
      "state": {
       "description_width": ""
      }
     },
     "a6015bc6c80748ae90e12f5658f0f1b8": {
      "model_module": "@jupyter-widgets/controls",
      "model_module_version": "1.5.0",
      "model_name": "HBoxModel",
      "state": {
       "children": [
        "IPY_MODEL_02acf34ed5f447539e14c9a6ee4f5bf2",
        "IPY_MODEL_cde6c73069e6464daa373f76997ac3a4"
       ],
       "layout": "IPY_MODEL_4d5165bb67084c77ad127a7a3b93a7bf"
      }
     },
     "a7329bd361c84d35ae7a356992e644a4": {
      "model_module": "@jupyter-widgets/base",
      "model_module_version": "1.2.0",
      "model_name": "LayoutModel",
      "state": {}
     },
     "a8439039df0842f794b79cf2afc8529c": {
      "model_module": "@jupyter-widgets/controls",
      "model_module_version": "1.5.0",
      "model_name": "HBoxModel",
      "state": {
       "children": [
        "IPY_MODEL_da58ac2845b940c08be743c70cb8be3b",
        "IPY_MODEL_37e41332c735449f9a74de276cad4dbf"
       ],
       "layout": "IPY_MODEL_3bfe0eb60bfc4a65975cdf4cff0cb2c5"
      }
     },
     "a88ddba880774f008f826e496935ba85": {
      "model_module": "@jupyter-widgets/controls",
      "model_module_version": "1.5.0",
      "model_name": "DescriptionStyleModel",
      "state": {
       "description_width": ""
      }
     },
     "a9c5facb61b648c290f10e7a55ac3b44": {
      "model_module": "@jupyter-widgets/base",
      "model_module_version": "1.2.0",
      "model_name": "LayoutModel",
      "state": {}
     },
     "ad2d28b9f966450d96a08e7f18511498": {
      "model_module": "@jupyter-widgets/controls",
      "model_module_version": "1.5.0",
      "model_name": "FloatProgressModel",
      "state": {
       "bar_style": "success",
       "description": "100%",
       "layout": "IPY_MODEL_64af68ee9c684ee4a6d4256efd93fc59",
       "max": 20,
       "style": "IPY_MODEL_b280218c259d46fa9aefbb8bdbd67c87",
       "value": 20
      }
     },
     "adbe873f1b57402488f9832760fbec12": {
      "model_module": "@jupyter-widgets/base",
      "model_module_version": "1.2.0",
      "model_name": "LayoutModel",
      "state": {}
     },
     "aeb22e96f47740d99997dd2c99827e74": {
      "model_module": "@jupyter-widgets/controls",
      "model_module_version": "1.5.0",
      "model_name": "ProgressStyleModel",
      "state": {
       "description_width": "initial"
      }
     },
     "b280218c259d46fa9aefbb8bdbd67c87": {
      "model_module": "@jupyter-widgets/controls",
      "model_module_version": "1.5.0",
      "model_name": "ProgressStyleModel",
      "state": {
       "description_width": "initial"
      }
     },
     "b6563856c13b45b8a6beb97001cb84d0": {
      "model_module": "@jupyter-widgets/base",
      "model_module_version": "1.2.0",
      "model_name": "LayoutModel",
      "state": {}
     },
     "b9dfa84c230f4c0d8b351d36ca4e6232": {
      "model_module": "@jupyter-widgets/controls",
      "model_module_version": "1.5.0",
      "model_name": "HTMLModel",
      "state": {
       "layout": "IPY_MODEL_6b9cc1a2b139453d9fd8dd5a067f79d9",
       "style": "IPY_MODEL_649068e792c24585ad76b36f18b7ddd3",
       "value": " 1000/1000 [02:37&lt;00:00,  6.35it/s]"
      }
     },
     "be7f9d331e4d4813975f71738688e5ed": {
      "model_module": "@jupyter-widgets/controls",
      "model_module_version": "1.5.0",
      "model_name": "FloatProgressModel",
      "state": {
       "bar_style": "success",
       "description": "Epoch 1: 100%",
       "layout": "IPY_MODEL_f9c649cb396741c2873847066748c95c",
       "max": 2000,
       "style": "IPY_MODEL_aeb22e96f47740d99997dd2c99827e74",
       "value": 2000
      }
     },
     "c3768aa279de4768b16043201347b6a0": {
      "model_module": "@jupyter-widgets/base",
      "model_module_version": "1.2.0",
      "model_name": "LayoutModel",
      "state": {}
     },
     "c6c091c6ae3a4e9e9da5e1d3dc38e72a": {
      "model_module": "@jupyter-widgets/base",
      "model_module_version": "1.2.0",
      "model_name": "LayoutModel",
      "state": {}
     },
     "c7e0bf0eb5ca42919445eaae2cb44588": {
      "model_module": "@jupyter-widgets/controls",
      "model_module_version": "1.5.0",
      "model_name": "DescriptionStyleModel",
      "state": {
       "description_width": ""
      }
     },
     "cce03b726ed342dca5f55de01f51e57f": {
      "model_module": "@jupyter-widgets/controls",
      "model_module_version": "1.5.0",
      "model_name": "HTMLModel",
      "state": {
       "layout": "IPY_MODEL_44fe5e9a768d430baa007ffc9d023cc7",
       "style": "IPY_MODEL_d60e069bf5004548805cb3ef040139d2",
       "value": " 2000/2000 [19:01&lt;00:00,  1.75it/s]"
      }
     },
     "cd64c5cf39b64e5b819ebeab381670bd": {
      "model_module": "@jupyter-widgets/controls",
      "model_module_version": "1.5.0",
      "model_name": "HBoxModel",
      "state": {
       "children": [
        "IPY_MODEL_e52d8eb63a134d0e952d8650fe5763fb",
        "IPY_MODEL_38eeea3cfc0f4b97a8adce1411b70b5d"
       ],
       "layout": "IPY_MODEL_6da534245e454d3bb37ed0aa42b11c7a"
      }
     },
     "cde6c73069e6464daa373f76997ac3a4": {
      "model_module": "@jupyter-widgets/controls",
      "model_module_version": "1.5.0",
      "model_name": "HTMLModel",
      "state": {
       "layout": "IPY_MODEL_51d6cf5085584baba894653f3ad72d66",
       "style": "IPY_MODEL_d7e38182c7b448548f5949e94cfbf2a1",
       "value": " 65/2000 [00:16&lt;07:34,  4.26it/s]"
      }
     },
     "cef4abb731704915bbeb4cad9e60561c": {
      "model_module": "@jupyter-widgets/base",
      "model_module_version": "1.2.0",
      "model_name": "LayoutModel",
      "state": {}
     },
     "d60e069bf5004548805cb3ef040139d2": {
      "model_module": "@jupyter-widgets/controls",
      "model_module_version": "1.5.0",
      "model_name": "DescriptionStyleModel",
      "state": {
       "description_width": ""
      }
     },
     "d7460304b35d46fb90032828f904f60c": {
      "model_module": "@jupyter-widgets/base",
      "model_module_version": "1.2.0",
      "model_name": "LayoutModel",
      "state": {}
     },
     "d7e38182c7b448548f5949e94cfbf2a1": {
      "model_module": "@jupyter-widgets/controls",
      "model_module_version": "1.5.0",
      "model_name": "DescriptionStyleModel",
      "state": {
       "description_width": ""
      }
     },
     "da58ac2845b940c08be743c70cb8be3b": {
      "model_module": "@jupyter-widgets/controls",
      "model_module_version": "1.5.0",
      "model_name": "FloatProgressModel",
      "state": {
       "bar_style": "success",
       "description": "Epoch 4: 100%",
       "layout": "IPY_MODEL_5b3265f26fef41fdbde9085d6afc7ffc",
       "max": 2000,
       "style": "IPY_MODEL_19c4339c5460450287411b5e78d8e8f7",
       "value": 2000
      }
     },
     "e03835b3461543c5a7ef5a884ae21b6e": {
      "model_module": "@jupyter-widgets/base",
      "model_module_version": "1.2.0",
      "model_name": "LayoutModel",
      "state": {}
     },
     "e2aa1c0be3a74318ae6c94746da9e614": {
      "model_module": "@jupyter-widgets/base",
      "model_module_version": "1.2.0",
      "model_name": "LayoutModel",
      "state": {}
     },
     "e2d285bab66b493985a7c318efeac7a1": {
      "model_module": "@jupyter-widgets/controls",
      "model_module_version": "1.5.0",
      "model_name": "ProgressStyleModel",
      "state": {
       "description_width": "initial"
      }
     },
     "e4d635926fa94c2f846c12096fab5507": {
      "model_module": "@jupyter-widgets/controls",
      "model_module_version": "1.5.0",
      "model_name": "ProgressStyleModel",
      "state": {
       "description_width": "initial"
      }
     },
     "e52d8eb63a134d0e952d8650fe5763fb": {
      "model_module": "@jupyter-widgets/controls",
      "model_module_version": "1.5.0",
      "model_name": "FloatProgressModel",
      "state": {
       "bar_style": "success",
       "description": "Epoch 5: 100%",
       "layout": "IPY_MODEL_433f9188cad941ccb2c46f3c85acd4ac",
       "max": 2000,
       "style": "IPY_MODEL_7067344c2ba049a791a7f826a16bb990",
       "value": 2000
      }
     },
     "e775b1861f404e4d9ec0b1c618c482eb": {
      "model_module": "@jupyter-widgets/controls",
      "model_module_version": "1.5.0",
      "model_name": "FloatProgressModel",
      "state": {
       "bar_style": "success",
       "description": "Evaluating: 100%",
       "layout": "IPY_MODEL_b6563856c13b45b8a6beb97001cb84d0",
       "max": 1000,
       "style": "IPY_MODEL_1e1d3f3dff25480a9ac5645307677fc1",
       "value": 1000
      }
     },
     "eb636f618f7843b2bef714a2406cbdae": {
      "model_module": "@jupyter-widgets/controls",
      "model_module_version": "1.5.0",
      "model_name": "ProgressStyleModel",
      "state": {
       "description_width": "initial"
      }
     },
     "ec93fbdf2f6a428389231ad7bcc76333": {
      "model_module": "@jupyter-widgets/controls",
      "model_module_version": "1.5.0",
      "model_name": "FloatProgressModel",
      "state": {
       "bar_style": "success",
       "description": "Evaluating: 100%",
       "layout": "IPY_MODEL_307eab07f47d49c5845653ba0dd26e94",
       "max": 1000,
       "style": "IPY_MODEL_7e1896b8530447989efd2b913e611fb8",
       "value": 1000
      }
     },
     "ed56e91ebafa441683027abb975a9add": {
      "model_module": "@jupyter-widgets/base",
      "model_module_version": "1.2.0",
      "model_name": "LayoutModel",
      "state": {}
     },
     "f8d4be660c9d47edb4f4603b134f58e4": {
      "model_module": "@jupyter-widgets/base",
      "model_module_version": "1.2.0",
      "model_name": "LayoutModel",
      "state": {}
     },
     "f9c649cb396741c2873847066748c95c": {
      "model_module": "@jupyter-widgets/base",
      "model_module_version": "1.2.0",
      "model_name": "LayoutModel",
      "state": {}
     },
     "fc9fd679400d417ab71c214b83660345": {
      "model_module": "@jupyter-widgets/controls",
      "model_module_version": "1.5.0",
      "model_name": "FloatProgressModel",
      "state": {
       "bar_style": "success",
       "description": "Evaluating: 100%",
       "layout": "IPY_MODEL_adbe873f1b57402488f9832760fbec12",
       "max": 1000,
       "style": "IPY_MODEL_9bd88f0d61ab42d79eff1938b54acf99",
       "value": 1000
      }
     }
    },
    "version_major": 2,
    "version_minor": 0
   }
  }
 },
 "nbformat": 4,
 "nbformat_minor": 4
}
